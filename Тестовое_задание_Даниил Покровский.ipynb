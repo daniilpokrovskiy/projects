{
  "nbformat": 4,
  "nbformat_minor": 0,
  "metadata": {
    "colab": {
      "provenance": []
    },
    "kernelspec": {
      "name": "python3",
      "display_name": "Python 3"
    },
    "language_info": {
      "name": "python"
    }
  },
  "cells": [
    {
      "cell_type": "markdown",
      "source": [
        "# Тестовое задание \n",
        "\n",
        "План выполнения:\n",
        "\n",
        "\n",
        "*   Выполнить подключение к любому API из раздела Shopping\n",
        "(`https://github.com/public-apis/public-apis#shopping`);\n",
        "*   Получить данные;\n",
        "*   Выполнить базовый анализ данных и сделать общие выводы.\n",
        "\n",
        "###Источник данных\n",
        "Из предложенных на GitHub источников данных (`14 источников в категории Shopping`):\n",
        "\n",
        "\n",
        "*   3 источника устарели (*ссылки неактивны, поиск в Google не дает актуальных результатов*) - `Digi-Key, Flipkart Marketplace, Octopart`;\n",
        "*   2 источника данных не разрешают регистрацию для пользователей из России - `Best Buy, Lazada`;\n",
        "*   6 источников предоставляют только ключи интеграции - `Etsy, Mercadolibre, Shopee, Rappi, Tokopedia, WooCommerce`;\n",
        "\n",
        "\n",
        "Из трех доступных источников данных `(EBay, OLX, Dummy Products)` наиболее оптимальным для выполнения задания является - `Dummy Products` (`https://dummyjson.com`), т.к. для выгрузки данных `не требуется` дополнительная регистрация и авторизация аккаунта от платформы в роли \"Developer\".\n",
        "\n",
        "###Задача\n",
        "Представим, что мы владельцы маркетплейса, планируем выход на новый рынок и получили базу данных пользователей конкурента (с многолетним опытом на этом рынке) и постов пользователей на его платформе. Разделим анализ на 2 этапа:\n",
        "\n",
        "*   проанализируем базу пользователей, составим представление о среднестатистическом покупателе, определим параметры запуска нашего маркетплейса - возрастные категории товаров, географию доставки, параметры платежной системы для оплаты на маркетплейсе;\n",
        "*   сопоставим данные пользователей с данными постов на платформе нашего конкурента, проанализируем основные теги постов пользователей и половозростную диаграмму авторов (=наиболее активных пользователей), чтобы грамотно построить маркетинговую стратегию запуска.\n",
        "\n",
        "\n",
        "\n",
        "\n",
        "\n",
        "\n",
        "\n",
        "\n"
      ],
      "metadata": {
        "id": "B55c3XobD1CE"
      }
    },
    {
      "cell_type": "markdown",
      "source": [
        "##Выгрузка данных\n"
      ],
      "metadata": {
        "id": "OBTbwMAZgVQB"
      }
    },
    {
      "cell_type": "code",
      "execution_count": 1,
      "metadata": {
        "colab": {
          "base_uri": "https://localhost:8080/"
        },
        "id": "46vYZbJrkKiJ",
        "outputId": "d4a2354e-fe1d-4ecb-af77-856f353fe514"
      },
      "outputs": [
        {
          "output_type": "stream",
          "name": "stdout",
          "text": [
            "Looking in indexes: https://pypi.org/simple, https://us-python.pkg.dev/colab-wheels/public/simple/\n",
            "Requirement already satisfied: requests in /usr/local/lib/python3.8/dist-packages (2.25.1)\n",
            "Requirement already satisfied: urllib3<1.27,>=1.21.1 in /usr/local/lib/python3.8/dist-packages (from requests) (1.24.3)\n",
            "Requirement already satisfied: certifi>=2017.4.17 in /usr/local/lib/python3.8/dist-packages (from requests) (2022.12.7)\n",
            "Requirement already satisfied: idna<3,>=2.5 in /usr/local/lib/python3.8/dist-packages (from requests) (2.10)\n",
            "Requirement already satisfied: chardet<5,>=3.0.2 in /usr/local/lib/python3.8/dist-packages (from requests) (4.0.0)\n"
          ]
        }
      ],
      "source": [
        "#для начала устанавливаем библиотеку HTTP запросов\n",
        "!pip install requests"
      ]
    },
    {
      "cell_type": "code",
      "source": [
        "#импортируем необходимые для работы библиотеки\n",
        "import requests\n",
        "import json\n",
        "import pandas as pd\n",
        "import numpy as np\n",
        "from matplotlib import pyplot as plt\n",
        "import seaborn as sns"
      ],
      "metadata": {
        "id": "xJFZ1nn8kVXf"
      },
      "execution_count": 2,
      "outputs": []
    },
    {
      "cell_type": "code",
      "source": [
        "#URL запроса получим на сайте источника данных\n",
        "url = 'https://dummyjson.com/users?skip=0&limit=100'"
      ],
      "metadata": {
        "id": "lHuQ9f9l98m-"
      },
      "execution_count": 3,
      "outputs": []
    },
    {
      "cell_type": "code",
      "source": [
        "#с помощью GET запроса библиотеки 'requests' получаем данные\n",
        "#в данном случае не требуется указания токена и параметров params, headers\n",
        "response = requests.get(url)"
      ],
      "metadata": {
        "id": "tMZixJplkkQe"
      },
      "execution_count": 4,
      "outputs": []
    },
    {
      "cell_type": "code",
      "source": [
        "#проверим код ответа от сервера\n",
        "response"
      ],
      "metadata": {
        "colab": {
          "base_uri": "https://localhost:8080/"
        },
        "id": "NLl3ByBXo2AX",
        "outputId": "e2fd74ec-5f8f-41d1-d6bf-a4902b9b8007"
      },
      "execution_count": 5,
      "outputs": [
        {
          "output_type": "execute_result",
          "data": {
            "text/plain": [
              "<Response [200]>"
            ]
          },
          "metadata": {},
          "execution_count": 5
        }
      ]
    },
    {
      "cell_type": "code",
      "source": [
        "#данные выгружаются в формате JSON - прочтем их с помощью соответствующей библиотеки\n",
        "response = json.loads(response.content)"
      ],
      "metadata": {
        "id": "BCXPs3-8IzgG"
      },
      "execution_count": 6,
      "outputs": []
    },
    {
      "cell_type": "markdown",
      "source": [
        "\n",
        "Сейчас данные представлены в формате словаря JSON. Чтобы конвертировать их в датафрейм используем функцию Pandas `json_normalize()`.\n",
        "\n",
        "\n",
        "\n",
        "\n"
      ],
      "metadata": {
        "id": "T9njx5O7dAKO"
      }
    },
    {
      "cell_type": "code",
      "source": [
        "#форматируем данные в датафрейм и присваиваем соответсвующее название\n",
        "users = pd.json_normalize(response, record_path =['users'])"
      ],
      "metadata": {
        "id": "jye6cu2LchUa"
      },
      "execution_count": 7,
      "outputs": []
    },
    {
      "cell_type": "code",
      "source": [
        "users.head()"
      ],
      "metadata": {
        "colab": {
          "base_uri": "https://localhost:8080/",
          "height": 569
        },
        "id": "cCDwRydscsnD",
        "outputId": "cb304037-52e8-4c78-99c0-f8e5bba89702"
      },
      "execution_count": 8,
      "outputs": [
        {
          "output_type": "execute_result",
          "data": {
            "text/plain": [
              "   id firstName   lastName maidenName  age gender                  email  \\\n",
              "0   1     Terry   Medhurst    Smitham   50   male        atuny0@sohu.com   \n",
              "1   2   Sheldon    Quigley       Cole   28   male  hbingley1@plala.or.jp   \n",
              "2   3   Terrill      Hills     Hoeger   38   male          rshawe2@51.la   \n",
              "3   4     Miles  Cummerata     Maggio   49   male   yraigatt3@nature.com   \n",
              "4   5     Mavis    Schultz      Yundt   38   male       kmeus4@upenn.edu   \n",
              "\n",
              "               phone   username    password  ...  \\\n",
              "0   +63 791 675 8914     atuny0    9uQFF1Lh  ...   \n",
              "1    +7 813 117 7139  hbingley1  CQutx25i8r  ...   \n",
              "2   +63 739 292 7942    rshawe2  OWsTbMUgFc  ...   \n",
              "3   +86 461 145 4186  yraigatt3   sRQxjPfdS  ...   \n",
              "4  +372 285 771 1911     kmeus4   aUTdmmmbH  ...   \n",
              "\n",
              "                           bank.iban  company.address.address  \\\n",
              "0                 NO17 0695 2754 967         629 Debbie Drive   \n",
              "1      MD63 L6YC 8YH4 QVQB XHIK MTML  8821 West Myrtle Avenue   \n",
              "2           AT24 1095 9625 1434 9703        18 Densmore Drive   \n",
              "3           KZ43 658B M6VS TZOU OXSO           210 Green Road   \n",
              "4  IT41 T114 5127 716J RGYB ZRUX DSJ    8398 West Denton Lane   \n",
              "\n",
              "  company.address.city  company.address.coordinates.lat  \\\n",
              "0            Nashville                        36.208114   \n",
              "1             Glendale                        33.540430   \n",
              "2                Essex                        44.492953   \n",
              "3           Manchester                        41.790910   \n",
              "4             Glendale                        33.515353   \n",
              "\n",
              "   company.address.coordinates.lng company.address.postalCode  \\\n",
              "0                       -86.586212                      37076   \n",
              "1                      -112.248839                      85305   \n",
              "2                       -73.101883                      05452   \n",
              "3                       -72.511951                      06042   \n",
              "4                      -112.240812                      85305   \n",
              "\n",
              "  company.address.state    company.department      company.name  \\\n",
              "0                    TN             Marketing    Blanda-O'Keefe   \n",
              "1                    AZ              Services  Aufderhar-Cronin   \n",
              "2                    VT             Marketing      Lindgren LLC   \n",
              "3                    CT  Business Development    Wolff and Sons   \n",
              "4                    AZ               Support         Adams Inc   \n",
              "\n",
              "                 company.title  \n",
              "0           Help Desk Operator  \n",
              "1       Senior Cost Accountant  \n",
              "2  Mechanical Systems Engineer  \n",
              "3                    Paralegal  \n",
              "4              Web Developer I  \n",
              "\n",
              "[5 rows x 45 columns]"
            ],
            "text/html": [
              "\n",
              "  <div id=\"df-abc14f01-aa2e-4486-83ae-603a9f9c1921\">\n",
              "    <div class=\"colab-df-container\">\n",
              "      <div>\n",
              "<style scoped>\n",
              "    .dataframe tbody tr th:only-of-type {\n",
              "        vertical-align: middle;\n",
              "    }\n",
              "\n",
              "    .dataframe tbody tr th {\n",
              "        vertical-align: top;\n",
              "    }\n",
              "\n",
              "    .dataframe thead th {\n",
              "        text-align: right;\n",
              "    }\n",
              "</style>\n",
              "<table border=\"1\" class=\"dataframe\">\n",
              "  <thead>\n",
              "    <tr style=\"text-align: right;\">\n",
              "      <th></th>\n",
              "      <th>id</th>\n",
              "      <th>firstName</th>\n",
              "      <th>lastName</th>\n",
              "      <th>maidenName</th>\n",
              "      <th>age</th>\n",
              "      <th>gender</th>\n",
              "      <th>email</th>\n",
              "      <th>phone</th>\n",
              "      <th>username</th>\n",
              "      <th>password</th>\n",
              "      <th>...</th>\n",
              "      <th>bank.iban</th>\n",
              "      <th>company.address.address</th>\n",
              "      <th>company.address.city</th>\n",
              "      <th>company.address.coordinates.lat</th>\n",
              "      <th>company.address.coordinates.lng</th>\n",
              "      <th>company.address.postalCode</th>\n",
              "      <th>company.address.state</th>\n",
              "      <th>company.department</th>\n",
              "      <th>company.name</th>\n",
              "      <th>company.title</th>\n",
              "    </tr>\n",
              "  </thead>\n",
              "  <tbody>\n",
              "    <tr>\n",
              "      <th>0</th>\n",
              "      <td>1</td>\n",
              "      <td>Terry</td>\n",
              "      <td>Medhurst</td>\n",
              "      <td>Smitham</td>\n",
              "      <td>50</td>\n",
              "      <td>male</td>\n",
              "      <td>atuny0@sohu.com</td>\n",
              "      <td>+63 791 675 8914</td>\n",
              "      <td>atuny0</td>\n",
              "      <td>9uQFF1Lh</td>\n",
              "      <td>...</td>\n",
              "      <td>NO17 0695 2754 967</td>\n",
              "      <td>629 Debbie Drive</td>\n",
              "      <td>Nashville</td>\n",
              "      <td>36.208114</td>\n",
              "      <td>-86.586212</td>\n",
              "      <td>37076</td>\n",
              "      <td>TN</td>\n",
              "      <td>Marketing</td>\n",
              "      <td>Blanda-O'Keefe</td>\n",
              "      <td>Help Desk Operator</td>\n",
              "    </tr>\n",
              "    <tr>\n",
              "      <th>1</th>\n",
              "      <td>2</td>\n",
              "      <td>Sheldon</td>\n",
              "      <td>Quigley</td>\n",
              "      <td>Cole</td>\n",
              "      <td>28</td>\n",
              "      <td>male</td>\n",
              "      <td>hbingley1@plala.or.jp</td>\n",
              "      <td>+7 813 117 7139</td>\n",
              "      <td>hbingley1</td>\n",
              "      <td>CQutx25i8r</td>\n",
              "      <td>...</td>\n",
              "      <td>MD63 L6YC 8YH4 QVQB XHIK MTML</td>\n",
              "      <td>8821 West Myrtle Avenue</td>\n",
              "      <td>Glendale</td>\n",
              "      <td>33.540430</td>\n",
              "      <td>-112.248839</td>\n",
              "      <td>85305</td>\n",
              "      <td>AZ</td>\n",
              "      <td>Services</td>\n",
              "      <td>Aufderhar-Cronin</td>\n",
              "      <td>Senior Cost Accountant</td>\n",
              "    </tr>\n",
              "    <tr>\n",
              "      <th>2</th>\n",
              "      <td>3</td>\n",
              "      <td>Terrill</td>\n",
              "      <td>Hills</td>\n",
              "      <td>Hoeger</td>\n",
              "      <td>38</td>\n",
              "      <td>male</td>\n",
              "      <td>rshawe2@51.la</td>\n",
              "      <td>+63 739 292 7942</td>\n",
              "      <td>rshawe2</td>\n",
              "      <td>OWsTbMUgFc</td>\n",
              "      <td>...</td>\n",
              "      <td>AT24 1095 9625 1434 9703</td>\n",
              "      <td>18 Densmore Drive</td>\n",
              "      <td>Essex</td>\n",
              "      <td>44.492953</td>\n",
              "      <td>-73.101883</td>\n",
              "      <td>05452</td>\n",
              "      <td>VT</td>\n",
              "      <td>Marketing</td>\n",
              "      <td>Lindgren LLC</td>\n",
              "      <td>Mechanical Systems Engineer</td>\n",
              "    </tr>\n",
              "    <tr>\n",
              "      <th>3</th>\n",
              "      <td>4</td>\n",
              "      <td>Miles</td>\n",
              "      <td>Cummerata</td>\n",
              "      <td>Maggio</td>\n",
              "      <td>49</td>\n",
              "      <td>male</td>\n",
              "      <td>yraigatt3@nature.com</td>\n",
              "      <td>+86 461 145 4186</td>\n",
              "      <td>yraigatt3</td>\n",
              "      <td>sRQxjPfdS</td>\n",
              "      <td>...</td>\n",
              "      <td>KZ43 658B M6VS TZOU OXSO</td>\n",
              "      <td>210 Green Road</td>\n",
              "      <td>Manchester</td>\n",
              "      <td>41.790910</td>\n",
              "      <td>-72.511951</td>\n",
              "      <td>06042</td>\n",
              "      <td>CT</td>\n",
              "      <td>Business Development</td>\n",
              "      <td>Wolff and Sons</td>\n",
              "      <td>Paralegal</td>\n",
              "    </tr>\n",
              "    <tr>\n",
              "      <th>4</th>\n",
              "      <td>5</td>\n",
              "      <td>Mavis</td>\n",
              "      <td>Schultz</td>\n",
              "      <td>Yundt</td>\n",
              "      <td>38</td>\n",
              "      <td>male</td>\n",
              "      <td>kmeus4@upenn.edu</td>\n",
              "      <td>+372 285 771 1911</td>\n",
              "      <td>kmeus4</td>\n",
              "      <td>aUTdmmmbH</td>\n",
              "      <td>...</td>\n",
              "      <td>IT41 T114 5127 716J RGYB ZRUX DSJ</td>\n",
              "      <td>8398 West Denton Lane</td>\n",
              "      <td>Glendale</td>\n",
              "      <td>33.515353</td>\n",
              "      <td>-112.240812</td>\n",
              "      <td>85305</td>\n",
              "      <td>AZ</td>\n",
              "      <td>Support</td>\n",
              "      <td>Adams Inc</td>\n",
              "      <td>Web Developer I</td>\n",
              "    </tr>\n",
              "  </tbody>\n",
              "</table>\n",
              "<p>5 rows × 45 columns</p>\n",
              "</div>\n",
              "      <button class=\"colab-df-convert\" onclick=\"convertToInteractive('df-abc14f01-aa2e-4486-83ae-603a9f9c1921')\"\n",
              "              title=\"Convert this dataframe to an interactive table.\"\n",
              "              style=\"display:none;\">\n",
              "        \n",
              "  <svg xmlns=\"http://www.w3.org/2000/svg\" height=\"24px\"viewBox=\"0 0 24 24\"\n",
              "       width=\"24px\">\n",
              "    <path d=\"M0 0h24v24H0V0z\" fill=\"none\"/>\n",
              "    <path d=\"M18.56 5.44l.94 2.06.94-2.06 2.06-.94-2.06-.94-.94-2.06-.94 2.06-2.06.94zm-11 1L8.5 8.5l.94-2.06 2.06-.94-2.06-.94L8.5 2.5l-.94 2.06-2.06.94zm10 10l.94 2.06.94-2.06 2.06-.94-2.06-.94-.94-2.06-.94 2.06-2.06.94z\"/><path d=\"M17.41 7.96l-1.37-1.37c-.4-.4-.92-.59-1.43-.59-.52 0-1.04.2-1.43.59L10.3 9.45l-7.72 7.72c-.78.78-.78 2.05 0 2.83L4 21.41c.39.39.9.59 1.41.59.51 0 1.02-.2 1.41-.59l7.78-7.78 2.81-2.81c.8-.78.8-2.07 0-2.86zM5.41 20L4 18.59l7.72-7.72 1.47 1.35L5.41 20z\"/>\n",
              "  </svg>\n",
              "      </button>\n",
              "      \n",
              "  <style>\n",
              "    .colab-df-container {\n",
              "      display:flex;\n",
              "      flex-wrap:wrap;\n",
              "      gap: 12px;\n",
              "    }\n",
              "\n",
              "    .colab-df-convert {\n",
              "      background-color: #E8F0FE;\n",
              "      border: none;\n",
              "      border-radius: 50%;\n",
              "      cursor: pointer;\n",
              "      display: none;\n",
              "      fill: #1967D2;\n",
              "      height: 32px;\n",
              "      padding: 0 0 0 0;\n",
              "      width: 32px;\n",
              "    }\n",
              "\n",
              "    .colab-df-convert:hover {\n",
              "      background-color: #E2EBFA;\n",
              "      box-shadow: 0px 1px 2px rgba(60, 64, 67, 0.3), 0px 1px 3px 1px rgba(60, 64, 67, 0.15);\n",
              "      fill: #174EA6;\n",
              "    }\n",
              "\n",
              "    [theme=dark] .colab-df-convert {\n",
              "      background-color: #3B4455;\n",
              "      fill: #D2E3FC;\n",
              "    }\n",
              "\n",
              "    [theme=dark] .colab-df-convert:hover {\n",
              "      background-color: #434B5C;\n",
              "      box-shadow: 0px 1px 3px 1px rgba(0, 0, 0, 0.15);\n",
              "      filter: drop-shadow(0px 1px 2px rgba(0, 0, 0, 0.3));\n",
              "      fill: #FFFFFF;\n",
              "    }\n",
              "  </style>\n",
              "\n",
              "      <script>\n",
              "        const buttonEl =\n",
              "          document.querySelector('#df-abc14f01-aa2e-4486-83ae-603a9f9c1921 button.colab-df-convert');\n",
              "        buttonEl.style.display =\n",
              "          google.colab.kernel.accessAllowed ? 'block' : 'none';\n",
              "\n",
              "        async function convertToInteractive(key) {\n",
              "          const element = document.querySelector('#df-abc14f01-aa2e-4486-83ae-603a9f9c1921');\n",
              "          const dataTable =\n",
              "            await google.colab.kernel.invokeFunction('convertToInteractive',\n",
              "                                                     [key], {});\n",
              "          if (!dataTable) return;\n",
              "\n",
              "          const docLinkHtml = 'Like what you see? Visit the ' +\n",
              "            '<a target=\"_blank\" href=https://colab.research.google.com/notebooks/data_table.ipynb>data table notebook</a>'\n",
              "            + ' to learn more about interactive tables.';\n",
              "          element.innerHTML = '';\n",
              "          dataTable['output_type'] = 'display_data';\n",
              "          await google.colab.output.renderOutput(dataTable, element);\n",
              "          const docLink = document.createElement('div');\n",
              "          docLink.innerHTML = docLinkHtml;\n",
              "          element.appendChild(docLink);\n",
              "        }\n",
              "      </script>\n",
              "    </div>\n",
              "  </div>\n",
              "  "
            ]
          },
          "metadata": {},
          "execution_count": 8
        }
      ]
    },
    {
      "cell_type": "markdown",
      "source": [
        "Наш запрос выгрузил данные о пользователях, исследуем их и составим профили пользователей платформы. \n",
        "\n",
        "Также на сайте доступен датасет с постами пользователей, выгрузим его чтобы обогатить наш датафрейм и провести дополнительный анализ."
      ],
      "metadata": {
        "id": "coolsjFfKqYl"
      }
    },
    {
      "cell_type": "code",
      "source": [
        "#URL запроса из источника данных\n",
        "one_more_url = 'https://dummyjson.com/posts?skip=0&limit=150'"
      ],
      "metadata": {
        "id": "lQ3slYCXtrrZ"
      },
      "execution_count": 9,
      "outputs": []
    },
    {
      "cell_type": "code",
      "source": [
        "#формируем GET запрос\n",
        "one_more_response = requests.get(one_more_url)"
      ],
      "metadata": {
        "id": "wRxGvfgUuAmY"
      },
      "execution_count": 10,
      "outputs": []
    },
    {
      "cell_type": "code",
      "source": [
        "#проверяем код ответа от сервера\n",
        "one_more_response"
      ],
      "metadata": {
        "colab": {
          "base_uri": "https://localhost:8080/"
        },
        "id": "srNx5-zGuDoG",
        "outputId": "62d0e415-0df7-47f8-b3ca-906e71ceb07e"
      },
      "execution_count": 11,
      "outputs": [
        {
          "output_type": "execute_result",
          "data": {
            "text/plain": [
              "<Response [200]>"
            ]
          },
          "metadata": {},
          "execution_count": 11
        }
      ]
    },
    {
      "cell_type": "code",
      "source": [
        "#данные выгружаются в формате JSON - прочтем их с помощью соответствующей библиотеки\n",
        "one_more_response = json.loads(one_more_response.content)"
      ],
      "metadata": {
        "id": "b1xREWLUuLBB"
      },
      "execution_count": 12,
      "outputs": []
    },
    {
      "cell_type": "code",
      "source": [
        "#форматируем данные в датафрейм и присваиваем соответсвующее название\n",
        "posts = pd.json_normalize(one_more_response, record_path =['posts'])"
      ],
      "metadata": {
        "id": "mE9-C94PuQPg"
      },
      "execution_count": 13,
      "outputs": []
    },
    {
      "cell_type": "code",
      "source": [
        "#еще один готовый к работе датафрейм\n",
        "posts.head()"
      ],
      "metadata": {
        "colab": {
          "base_uri": "https://localhost:8080/",
          "height": 204
        },
        "id": "snARp0uquu-n",
        "outputId": "fbe5219f-1fc4-4f24-9ee2-52548199aa69"
      },
      "execution_count": 14,
      "outputs": [
        {
          "output_type": "execute_result",
          "data": {
            "text/plain": [
              "   id                                              title  \\\n",
              "0   1                   His mother had always taught him   \n",
              "1   2           He was an expert but not in a discipline   \n",
              "2   3  Dave watched as the forest burned up on the hill.   \n",
              "3   4                     All he wanted was a candy bar.   \n",
              "4   5             Hopes and dreams were dashed that day.   \n",
              "\n",
              "                                                body  userId  \\\n",
              "0  His mother had always taught him not to ever t...       9   \n",
              "1  He was an expert but not in a discipline that ...      13   \n",
              "2  Dave watched as the forest burned up on the hi...      32   \n",
              "3  All he wanted was a candy bar. It didn't seem ...      12   \n",
              "4  Hopes and dreams were dashed that day. It shou...      41   \n",
              "\n",
              "                           tags  reactions  \n",
              "0    [history, american, crime]          2  \n",
              "1    [french, fiction, english]          2  \n",
              "2    [magical, history, french]          5  \n",
              "3  [mystery, english, american]          1  \n",
              "4        [crime, mystery, love]          2  "
            ],
            "text/html": [
              "\n",
              "  <div id=\"df-a45742f3-6c66-4cae-ba36-fadf88b8d1a6\">\n",
              "    <div class=\"colab-df-container\">\n",
              "      <div>\n",
              "<style scoped>\n",
              "    .dataframe tbody tr th:only-of-type {\n",
              "        vertical-align: middle;\n",
              "    }\n",
              "\n",
              "    .dataframe tbody tr th {\n",
              "        vertical-align: top;\n",
              "    }\n",
              "\n",
              "    .dataframe thead th {\n",
              "        text-align: right;\n",
              "    }\n",
              "</style>\n",
              "<table border=\"1\" class=\"dataframe\">\n",
              "  <thead>\n",
              "    <tr style=\"text-align: right;\">\n",
              "      <th></th>\n",
              "      <th>id</th>\n",
              "      <th>title</th>\n",
              "      <th>body</th>\n",
              "      <th>userId</th>\n",
              "      <th>tags</th>\n",
              "      <th>reactions</th>\n",
              "    </tr>\n",
              "  </thead>\n",
              "  <tbody>\n",
              "    <tr>\n",
              "      <th>0</th>\n",
              "      <td>1</td>\n",
              "      <td>His mother had always taught him</td>\n",
              "      <td>His mother had always taught him not to ever t...</td>\n",
              "      <td>9</td>\n",
              "      <td>[history, american, crime]</td>\n",
              "      <td>2</td>\n",
              "    </tr>\n",
              "    <tr>\n",
              "      <th>1</th>\n",
              "      <td>2</td>\n",
              "      <td>He was an expert but not in a discipline</td>\n",
              "      <td>He was an expert but not in a discipline that ...</td>\n",
              "      <td>13</td>\n",
              "      <td>[french, fiction, english]</td>\n",
              "      <td>2</td>\n",
              "    </tr>\n",
              "    <tr>\n",
              "      <th>2</th>\n",
              "      <td>3</td>\n",
              "      <td>Dave watched as the forest burned up on the hill.</td>\n",
              "      <td>Dave watched as the forest burned up on the hi...</td>\n",
              "      <td>32</td>\n",
              "      <td>[magical, history, french]</td>\n",
              "      <td>5</td>\n",
              "    </tr>\n",
              "    <tr>\n",
              "      <th>3</th>\n",
              "      <td>4</td>\n",
              "      <td>All he wanted was a candy bar.</td>\n",
              "      <td>All he wanted was a candy bar. It didn't seem ...</td>\n",
              "      <td>12</td>\n",
              "      <td>[mystery, english, american]</td>\n",
              "      <td>1</td>\n",
              "    </tr>\n",
              "    <tr>\n",
              "      <th>4</th>\n",
              "      <td>5</td>\n",
              "      <td>Hopes and dreams were dashed that day.</td>\n",
              "      <td>Hopes and dreams were dashed that day. It shou...</td>\n",
              "      <td>41</td>\n",
              "      <td>[crime, mystery, love]</td>\n",
              "      <td>2</td>\n",
              "    </tr>\n",
              "  </tbody>\n",
              "</table>\n",
              "</div>\n",
              "      <button class=\"colab-df-convert\" onclick=\"convertToInteractive('df-a45742f3-6c66-4cae-ba36-fadf88b8d1a6')\"\n",
              "              title=\"Convert this dataframe to an interactive table.\"\n",
              "              style=\"display:none;\">\n",
              "        \n",
              "  <svg xmlns=\"http://www.w3.org/2000/svg\" height=\"24px\"viewBox=\"0 0 24 24\"\n",
              "       width=\"24px\">\n",
              "    <path d=\"M0 0h24v24H0V0z\" fill=\"none\"/>\n",
              "    <path d=\"M18.56 5.44l.94 2.06.94-2.06 2.06-.94-2.06-.94-.94-2.06-.94 2.06-2.06.94zm-11 1L8.5 8.5l.94-2.06 2.06-.94-2.06-.94L8.5 2.5l-.94 2.06-2.06.94zm10 10l.94 2.06.94-2.06 2.06-.94-2.06-.94-.94-2.06-.94 2.06-2.06.94z\"/><path d=\"M17.41 7.96l-1.37-1.37c-.4-.4-.92-.59-1.43-.59-.52 0-1.04.2-1.43.59L10.3 9.45l-7.72 7.72c-.78.78-.78 2.05 0 2.83L4 21.41c.39.39.9.59 1.41.59.51 0 1.02-.2 1.41-.59l7.78-7.78 2.81-2.81c.8-.78.8-2.07 0-2.86zM5.41 20L4 18.59l7.72-7.72 1.47 1.35L5.41 20z\"/>\n",
              "  </svg>\n",
              "      </button>\n",
              "      \n",
              "  <style>\n",
              "    .colab-df-container {\n",
              "      display:flex;\n",
              "      flex-wrap:wrap;\n",
              "      gap: 12px;\n",
              "    }\n",
              "\n",
              "    .colab-df-convert {\n",
              "      background-color: #E8F0FE;\n",
              "      border: none;\n",
              "      border-radius: 50%;\n",
              "      cursor: pointer;\n",
              "      display: none;\n",
              "      fill: #1967D2;\n",
              "      height: 32px;\n",
              "      padding: 0 0 0 0;\n",
              "      width: 32px;\n",
              "    }\n",
              "\n",
              "    .colab-df-convert:hover {\n",
              "      background-color: #E2EBFA;\n",
              "      box-shadow: 0px 1px 2px rgba(60, 64, 67, 0.3), 0px 1px 3px 1px rgba(60, 64, 67, 0.15);\n",
              "      fill: #174EA6;\n",
              "    }\n",
              "\n",
              "    [theme=dark] .colab-df-convert {\n",
              "      background-color: #3B4455;\n",
              "      fill: #D2E3FC;\n",
              "    }\n",
              "\n",
              "    [theme=dark] .colab-df-convert:hover {\n",
              "      background-color: #434B5C;\n",
              "      box-shadow: 0px 1px 3px 1px rgba(0, 0, 0, 0.15);\n",
              "      filter: drop-shadow(0px 1px 2px rgba(0, 0, 0, 0.3));\n",
              "      fill: #FFFFFF;\n",
              "    }\n",
              "  </style>\n",
              "\n",
              "      <script>\n",
              "        const buttonEl =\n",
              "          document.querySelector('#df-a45742f3-6c66-4cae-ba36-fadf88b8d1a6 button.colab-df-convert');\n",
              "        buttonEl.style.display =\n",
              "          google.colab.kernel.accessAllowed ? 'block' : 'none';\n",
              "\n",
              "        async function convertToInteractive(key) {\n",
              "          const element = document.querySelector('#df-a45742f3-6c66-4cae-ba36-fadf88b8d1a6');\n",
              "          const dataTable =\n",
              "            await google.colab.kernel.invokeFunction('convertToInteractive',\n",
              "                                                     [key], {});\n",
              "          if (!dataTable) return;\n",
              "\n",
              "          const docLinkHtml = 'Like what you see? Visit the ' +\n",
              "            '<a target=\"_blank\" href=https://colab.research.google.com/notebooks/data_table.ipynb>data table notebook</a>'\n",
              "            + ' to learn more about interactive tables.';\n",
              "          element.innerHTML = '';\n",
              "          dataTable['output_type'] = 'display_data';\n",
              "          await google.colab.output.renderOutput(dataTable, element);\n",
              "          const docLink = document.createElement('div');\n",
              "          docLink.innerHTML = docLinkHtml;\n",
              "          element.appendChild(docLink);\n",
              "        }\n",
              "      </script>\n",
              "    </div>\n",
              "  </div>\n",
              "  "
            ]
          },
          "metadata": {},
          "execution_count": 14
        }
      ]
    },
    {
      "cell_type": "markdown",
      "source": [
        "##Предобработка данных"
      ],
      "metadata": {
        "id": "U1yyVJJxWfdm"
      }
    },
    {
      "cell_type": "code",
      "source": [
        "#для начала получим основную информацию о датафрейме\n",
        "users.info()"
      ],
      "metadata": {
        "colab": {
          "base_uri": "https://localhost:8080/"
        },
        "id": "0OJ3D3UZOazM",
        "outputId": "f10086c2-f869-4718-fa68-a68d8ecc8862"
      },
      "execution_count": 15,
      "outputs": [
        {
          "output_type": "stream",
          "name": "stdout",
          "text": [
            "<class 'pandas.core.frame.DataFrame'>\n",
            "RangeIndex: 100 entries, 0 to 99\n",
            "Data columns (total 45 columns):\n",
            " #   Column                           Non-Null Count  Dtype  \n",
            "---  ------                           --------------  -----  \n",
            " 0   id                               100 non-null    int64  \n",
            " 1   firstName                        100 non-null    object \n",
            " 2   lastName                         100 non-null    object \n",
            " 3   maidenName                       100 non-null    object \n",
            " 4   age                              100 non-null    int64  \n",
            " 5   gender                           100 non-null    object \n",
            " 6   email                            100 non-null    object \n",
            " 7   phone                            100 non-null    object \n",
            " 8   username                         100 non-null    object \n",
            " 9   password                         100 non-null    object \n",
            " 10  birthDate                        100 non-null    object \n",
            " 11  image                            100 non-null    object \n",
            " 12  bloodGroup                       100 non-null    object \n",
            " 13  height                           100 non-null    int64  \n",
            " 14  weight                           100 non-null    float64\n",
            " 15  eyeColor                         100 non-null    object \n",
            " 16  domain                           100 non-null    object \n",
            " 17  ip                               100 non-null    object \n",
            " 18  macAddress                       100 non-null    object \n",
            " 19  university                       100 non-null    object \n",
            " 20  ein                              100 non-null    object \n",
            " 21  ssn                              100 non-null    object \n",
            " 22  userAgent                        100 non-null    object \n",
            " 23  hair.color                       100 non-null    object \n",
            " 24  hair.type                        100 non-null    object \n",
            " 25  address.address                  100 non-null    object \n",
            " 26  address.city                     98 non-null     object \n",
            " 27  address.coordinates.lat          100 non-null    float64\n",
            " 28  address.coordinates.lng          100 non-null    float64\n",
            " 29  address.postalCode               100 non-null    object \n",
            " 30  address.state                    100 non-null    object \n",
            " 31  bank.cardExpire                  100 non-null    object \n",
            " 32  bank.cardNumber                  100 non-null    object \n",
            " 33  bank.cardType                    100 non-null    object \n",
            " 34  bank.currency                    100 non-null    object \n",
            " 35  bank.iban                        100 non-null    object \n",
            " 36  company.address.address          100 non-null    object \n",
            " 37  company.address.city             98 non-null     object \n",
            " 38  company.address.coordinates.lat  100 non-null    float64\n",
            " 39  company.address.coordinates.lng  100 non-null    float64\n",
            " 40  company.address.postalCode       100 non-null    object \n",
            " 41  company.address.state            100 non-null    object \n",
            " 42  company.department               100 non-null    object \n",
            " 43  company.name                     100 non-null    object \n",
            " 44  company.title                    100 non-null    object \n",
            "dtypes: float64(5), int64(3), object(37)\n",
            "memory usage: 35.3+ KB\n"
          ]
        }
      ]
    },
    {
      "cell_type": "markdown",
      "source": [
        "После просмотра информации видим:\n",
        "\n",
        "\n",
        "1.   В двух столбцах присутствуют пропуски;\n",
        "2.   У некоторых столбцов тип данных не совпадает с содержимым;\n",
        "3.   Название колонок необходимо привести к единообразному стилю."
      ],
      "metadata": {
        "id": "qO7B3mvyPMnQ"
      }
    },
    {
      "cell_type": "code",
      "source": [
        "#приведем названия колонок к строчному формату\n",
        "users.columns = users.columns.str.lower()"
      ],
      "metadata": {
        "id": "2wKnC8w1S0tu"
      },
      "execution_count": 16,
      "outputs": []
    },
    {
      "cell_type": "code",
      "source": [
        "#переименуем названия колонок в соответствии с общепринятым стилем\n",
        "users = users.rename(columns=\n",
        "               {'id' : 'user_id',\n",
        "                'firstname' : 'first_name',\n",
        "                'lastname' : 'last_name',\n",
        "                'maidenname' : 'maiden_name',\n",
        "                'birthdate' : 'birth_date',\n",
        "                'bloodgroup' : 'blood_group',\n",
        "                'macaddress' : 'mac_address',\n",
        "                'useragent' : 'user_agent',\n",
        "                'hair.color' : 'hair_color',\n",
        "                'hair.type' : 'hair_type',\n",
        "                'address.address' : 'home_address',\n",
        "                'address.city' : 'home_city',\n",
        "                'address.coordinates.lat' : 'home_coordinates_lat',\n",
        "                'address.coordinates.lng' : 'home_coordinates_lng',\n",
        "                'address.postalcode' : 'home_postal_code',\n",
        "                'address.state' : 'home_state',\n",
        "                'bank.cardexpire' : 'bank_card_expire',\n",
        "                'bank.cardnumber' : 'bank_card_number',\n",
        "                'bank.cardtype' : 'bank_card_type',\n",
        "                'bank.currency' : 'bank_currency',\n",
        "                'bank.iban' : 'bank_iban',\n",
        "                'company.address.address' : 'company_address',\n",
        "                'company.address.city' : 'company_city',\n",
        "                'company.address.coordinates.lat' : 'company_coordinates_lat',\n",
        "                'company.address.coordinates.lng' : 'company_coordinates_lng',\n",
        "                'company.address.postalcode' : 'company_postal_code',\n",
        "                'company.address.state' : 'company_state',\n",
        "                'company.department' : 'company_department', \n",
        "                'company.name' : 'company_name', \n",
        "                'company.title' : 'company_title'\n",
        "})"
      ],
      "metadata": {
        "id": "UDthFVFRP1ng"
      },
      "execution_count": 17,
      "outputs": []
    },
    {
      "cell_type": "code",
      "source": [
        "#посчитаем долю пропусков по стобцам \n",
        "users.isna().mean().to_frame(name=\"nans\").query(\"nans > 0\")[\"nans\"]"
      ],
      "metadata": {
        "colab": {
          "base_uri": "https://localhost:8080/"
        },
        "id": "9RMhCYuuPbly",
        "outputId": "3f844092-d143-4b58-978f-ed8d592f4e5c"
      },
      "execution_count": 18,
      "outputs": [
        {
          "output_type": "execute_result",
          "data": {
            "text/plain": [
              "home_city       0.02\n",
              "company_city    0.02\n",
              "Name: nans, dtype: float64"
            ]
          },
          "metadata": {},
          "execution_count": 18
        }
      ]
    },
    {
      "cell_type": "markdown",
      "source": [
        "По `2%` пропусков имеют колонки с текстовым значением `городом домашнего и рабочего адреса`, при этом остальныне реквизиты адреса присутствуют во всех колонках - значит, исследователькому анализу эти пропуски не помешают - оставим их в текущем виде. "
      ],
      "metadata": {
        "id": "WiBUJtUFPy9t"
      }
    },
    {
      "cell_type": "code",
      "source": [
        "#проверим наличие дубликатов\n",
        "users.duplicated().sum()"
      ],
      "metadata": {
        "colab": {
          "base_uri": "https://localhost:8080/"
        },
        "id": "PomjLvpILlLt",
        "outputId": "8658514a-c902-4698-8cd9-e1e906207531"
      },
      "execution_count": 19,
      "outputs": [
        {
          "output_type": "execute_result",
          "data": {
            "text/plain": [
              "0"
            ]
          },
          "metadata": {},
          "execution_count": 19
        }
      ]
    },
    {
      "cell_type": "markdown",
      "source": [
        "Полные дубли отсуствуют, далее проверим наличие неявных дубликатов в тех столбцах, по которым планируем группировку данных или подсчет уникальных значечний -"
      ],
      "metadata": {
        "id": "NbRjxTpYUwBn"
      }
    },
    {
      "cell_type": "code",
      "source": [
        "users['bank_card_type'].sort_values().unique()"
      ],
      "metadata": {
        "colab": {
          "base_uri": "https://localhost:8080/"
        },
        "id": "UHH8WtAJK8j6",
        "outputId": "432484e6-c6b5-4c9b-f84e-75ca5b0eb94a"
      },
      "execution_count": 20,
      "outputs": [
        {
          "output_type": "execute_result",
          "data": {
            "text/plain": [
              "array(['americanexpress', 'bankcard', 'china-unionpay',\n",
              "       'diners-club-carte-blanche', 'diners-club-enroute',\n",
              "       'diners-club-us-ca', 'instapayment', 'jcb', 'laser', 'maestro',\n",
              "       'mastercard', 'solo', 'switch', 'visa', 'visa-electron'],\n",
              "      dtype=object)"
            ]
          },
          "metadata": {},
          "execution_count": 20
        }
      ]
    },
    {
      "cell_type": "code",
      "source": [
        "users['bank_currency'].sort_values().unique()"
      ],
      "metadata": {
        "colab": {
          "base_uri": "https://localhost:8080/"
        },
        "id": "K6JTtFOwp3s7",
        "outputId": "55e09002-c649-45e9-80d8-ad304af11960"
      },
      "execution_count": 21,
      "outputs": [
        {
          "output_type": "execute_result",
          "data": {
            "text/plain": [
              "array(['Ariary', 'Baht', 'Dalasi', 'Denar', 'Dollar', 'Dong', 'Euro',\n",
              "       'Forint', 'Franc', 'Gourde', 'Hryvnia', 'Koruna', 'Krona', 'Krone',\n",
              "       'Lempira', 'Manat', 'Peso', 'Real', 'Rial', 'Ringgit', 'Ruble',\n",
              "       'Rupee', 'Rupiah', 'Yen', 'Yuan Renminbi', 'Zloty'], dtype=object)"
            ]
          },
          "metadata": {},
          "execution_count": 21
        }
      ]
    },
    {
      "cell_type": "markdown",
      "source": [
        "Неявные дубликаты значений отсуствуют, можем двигаться дальше - "
      ],
      "metadata": {
        "id": "auG4HG5LYXZA"
      }
    },
    {
      "cell_type": "code",
      "source": [
        "#приведем колонку с датами к нужному типу данных\n",
        "users['birth_date'] = pd.to_datetime(users['birth_date'], format='%Y-%m-%d')"
      ],
      "metadata": {
        "id": "jl-DEzHnYXBE"
      },
      "execution_count": 22,
      "outputs": []
    },
    {
      "cell_type": "code",
      "source": [
        "#приведем другие колонки к нужному типу данных\n",
        "users[['home_postal_code', 'bank_card_number', 'company_postal_code']] = \\\n",
        "users[['home_postal_code', 'bank_card_number', 'company_postal_code']].astype('int') "
      ],
      "metadata": {
        "id": "9E8eO7C8dYnz"
      },
      "execution_count": 23,
      "outputs": []
    },
    {
      "cell_type": "code",
      "source": [
        "#проверим правильность\n",
        "users.dtypes"
      ],
      "metadata": {
        "colab": {
          "base_uri": "https://localhost:8080/"
        },
        "id": "papw6vuyd1s1",
        "outputId": "462353a6-01e1-474e-dcc1-cca82531bdf7"
      },
      "execution_count": 24,
      "outputs": [
        {
          "output_type": "execute_result",
          "data": {
            "text/plain": [
              "user_id                             int64\n",
              "first_name                         object\n",
              "last_name                          object\n",
              "maiden_name                        object\n",
              "age                                 int64\n",
              "gender                             object\n",
              "email                              object\n",
              "phone                              object\n",
              "username                           object\n",
              "password                           object\n",
              "birth_date                 datetime64[ns]\n",
              "image                              object\n",
              "blood_group                        object\n",
              "height                              int64\n",
              "weight                            float64\n",
              "eyecolor                           object\n",
              "domain                             object\n",
              "ip                                 object\n",
              "mac_address                        object\n",
              "university                         object\n",
              "ein                                object\n",
              "ssn                                object\n",
              "user_agent                         object\n",
              "hair_color                         object\n",
              "hair_type                          object\n",
              "home_address                       object\n",
              "home_city                          object\n",
              "home_coordinates_lat              float64\n",
              "home_coordinates_lng              float64\n",
              "home_postal_code                    int64\n",
              "home_state                         object\n",
              "bank_card_expire                   object\n",
              "bank_card_number                    int64\n",
              "bank_card_type                     object\n",
              "bank_currency                      object\n",
              "bank_iban                          object\n",
              "company_address                    object\n",
              "company_city                       object\n",
              "company_coordinates_lat           float64\n",
              "company_coordinates_lng           float64\n",
              "company_postal_code                 int64\n",
              "company_state                      object\n",
              "company_department                 object\n",
              "company_name                       object\n",
              "company_title                      object\n",
              "dtype: object"
            ]
          },
          "metadata": {},
          "execution_count": 24
        }
      ]
    },
    {
      "cell_type": "code",
      "source": [
        "#по аналогии проведем предобработку posts\n",
        "posts.info()"
      ],
      "metadata": {
        "colab": {
          "base_uri": "https://localhost:8080/"
        },
        "id": "F8Op-S75wreg",
        "outputId": "6aaa03ad-3da8-416d-a2c3-351e0d7ec781"
      },
      "execution_count": 25,
      "outputs": [
        {
          "output_type": "stream",
          "name": "stdout",
          "text": [
            "<class 'pandas.core.frame.DataFrame'>\n",
            "RangeIndex: 150 entries, 0 to 149\n",
            "Data columns (total 6 columns):\n",
            " #   Column     Non-Null Count  Dtype \n",
            "---  ------     --------------  ----- \n",
            " 0   id         150 non-null    int64 \n",
            " 1   title      150 non-null    object\n",
            " 2   body       150 non-null    object\n",
            " 3   userId     150 non-null    int64 \n",
            " 4   tags       150 non-null    object\n",
            " 5   reactions  150 non-null    int64 \n",
            "dtypes: int64(3), object(3)\n",
            "memory usage: 7.2+ KB\n"
          ]
        }
      ]
    },
    {
      "cell_type": "code",
      "source": [
        "#приведем названия колонок к строчному формату\n",
        "posts.columns = posts.columns.str.lower()"
      ],
      "metadata": {
        "id": "XREvaa0-wrXb"
      },
      "execution_count": 26,
      "outputs": []
    },
    {
      "cell_type": "code",
      "source": [
        "#переименуем названия колонок\n",
        "posts = posts.rename(columns=\n",
        "               {'id' : 'post_id',\n",
        "                'userid' : 'user_id'\n",
        "})"
      ],
      "metadata": {
        "id": "uujWdRbL1JSq"
      },
      "execution_count": 27,
      "outputs": []
    },
    {
      "cell_type": "code",
      "source": [
        "#проверим наличие дубликатов\n",
        "posts.isna().mean().to_frame(name=\"nans\").query(\"nans > 0\")[\"nans\"]"
      ],
      "metadata": {
        "colab": {
          "base_uri": "https://localhost:8080/"
        },
        "id": "kU7OhATw1ate",
        "outputId": "ac47d367-852b-4d74-a2b6-a04166fe83dd"
      },
      "execution_count": 28,
      "outputs": [
        {
          "output_type": "execute_result",
          "data": {
            "text/plain": [
              "Series([], Name: nans, dtype: float64)"
            ]
          },
          "metadata": {},
          "execution_count": 28
        }
      ]
    },
    {
      "cell_type": "markdown",
      "source": [
        "Полные дубликаты отсутствуют. \n",
        "\n",
        "Также все столбцы этого датафрейма имеют соответствующий тип данных.\n",
        "\n",
        "В дальнейшем имеет смысл объединить датафреймы по ключу `'user_id'` с помощью функции `join`, но на текущем этапе это затруднит работу, т.к. в пользователи могут оставлять по нескольку комментариев, что приведет к дублированию данных в едином датафреме."
      ],
      "metadata": {
        "id": "wM7HdPHBwyfc"
      }
    },
    {
      "cell_type": "markdown",
      "source": [
        "##Исследовательский анализ данных"
      ],
      "metadata": {
        "id": "HnPpXWYagHV7"
      }
    },
    {
      "cell_type": "markdown",
      "source": [
        "####Анализ пользователей"
      ],
      "metadata": {
        "id": "OwOWZnPOsigQ"
      }
    },
    {
      "cell_type": "code",
      "source": [
        "#еще раз ознакомимся со структурой данных\n",
        "users.head()"
      ],
      "metadata": {
        "colab": {
          "base_uri": "https://localhost:8080/",
          "height": 569
        },
        "id": "QGI7w2Y9g4Fe",
        "outputId": "38123cc7-b438-477f-932e-0855c7986222"
      },
      "execution_count": 29,
      "outputs": [
        {
          "output_type": "execute_result",
          "data": {
            "text/plain": [
              "   user_id first_name  last_name maiden_name  age gender  \\\n",
              "0        1      Terry   Medhurst     Smitham   50   male   \n",
              "1        2    Sheldon    Quigley        Cole   28   male   \n",
              "2        3    Terrill      Hills      Hoeger   38   male   \n",
              "3        4      Miles  Cummerata      Maggio   49   male   \n",
              "4        5      Mavis    Schultz       Yundt   38   male   \n",
              "\n",
              "                   email              phone   username    password  ...  \\\n",
              "0        atuny0@sohu.com   +63 791 675 8914     atuny0    9uQFF1Lh  ...   \n",
              "1  hbingley1@plala.or.jp    +7 813 117 7139  hbingley1  CQutx25i8r  ...   \n",
              "2          rshawe2@51.la   +63 739 292 7942    rshawe2  OWsTbMUgFc  ...   \n",
              "3   yraigatt3@nature.com   +86 461 145 4186  yraigatt3   sRQxjPfdS  ...   \n",
              "4       kmeus4@upenn.edu  +372 285 771 1911     kmeus4   aUTdmmmbH  ...   \n",
              "\n",
              "                           bank_iban          company_address company_city  \\\n",
              "0                 NO17 0695 2754 967         629 Debbie Drive    Nashville   \n",
              "1      MD63 L6YC 8YH4 QVQB XHIK MTML  8821 West Myrtle Avenue     Glendale   \n",
              "2           AT24 1095 9625 1434 9703        18 Densmore Drive        Essex   \n",
              "3           KZ43 658B M6VS TZOU OXSO           210 Green Road   Manchester   \n",
              "4  IT41 T114 5127 716J RGYB ZRUX DSJ    8398 West Denton Lane     Glendale   \n",
              "\n",
              "   company_coordinates_lat  company_coordinates_lng company_postal_code  \\\n",
              "0                36.208114               -86.586212               37076   \n",
              "1                33.540430              -112.248839               85305   \n",
              "2                44.492953               -73.101883                5452   \n",
              "3                41.790910               -72.511951                6042   \n",
              "4                33.515353              -112.240812               85305   \n",
              "\n",
              "  company_state    company_department      company_name  \\\n",
              "0            TN             Marketing    Blanda-O'Keefe   \n",
              "1            AZ              Services  Aufderhar-Cronin   \n",
              "2            VT             Marketing      Lindgren LLC   \n",
              "3            CT  Business Development    Wolff and Sons   \n",
              "4            AZ               Support         Adams Inc   \n",
              "\n",
              "                 company_title  \n",
              "0           Help Desk Operator  \n",
              "1       Senior Cost Accountant  \n",
              "2  Mechanical Systems Engineer  \n",
              "3                    Paralegal  \n",
              "4              Web Developer I  \n",
              "\n",
              "[5 rows x 45 columns]"
            ],
            "text/html": [
              "\n",
              "  <div id=\"df-eb233d9d-3d58-4d5b-b31d-fccda117125f\">\n",
              "    <div class=\"colab-df-container\">\n",
              "      <div>\n",
              "<style scoped>\n",
              "    .dataframe tbody tr th:only-of-type {\n",
              "        vertical-align: middle;\n",
              "    }\n",
              "\n",
              "    .dataframe tbody tr th {\n",
              "        vertical-align: top;\n",
              "    }\n",
              "\n",
              "    .dataframe thead th {\n",
              "        text-align: right;\n",
              "    }\n",
              "</style>\n",
              "<table border=\"1\" class=\"dataframe\">\n",
              "  <thead>\n",
              "    <tr style=\"text-align: right;\">\n",
              "      <th></th>\n",
              "      <th>user_id</th>\n",
              "      <th>first_name</th>\n",
              "      <th>last_name</th>\n",
              "      <th>maiden_name</th>\n",
              "      <th>age</th>\n",
              "      <th>gender</th>\n",
              "      <th>email</th>\n",
              "      <th>phone</th>\n",
              "      <th>username</th>\n",
              "      <th>password</th>\n",
              "      <th>...</th>\n",
              "      <th>bank_iban</th>\n",
              "      <th>company_address</th>\n",
              "      <th>company_city</th>\n",
              "      <th>company_coordinates_lat</th>\n",
              "      <th>company_coordinates_lng</th>\n",
              "      <th>company_postal_code</th>\n",
              "      <th>company_state</th>\n",
              "      <th>company_department</th>\n",
              "      <th>company_name</th>\n",
              "      <th>company_title</th>\n",
              "    </tr>\n",
              "  </thead>\n",
              "  <tbody>\n",
              "    <tr>\n",
              "      <th>0</th>\n",
              "      <td>1</td>\n",
              "      <td>Terry</td>\n",
              "      <td>Medhurst</td>\n",
              "      <td>Smitham</td>\n",
              "      <td>50</td>\n",
              "      <td>male</td>\n",
              "      <td>atuny0@sohu.com</td>\n",
              "      <td>+63 791 675 8914</td>\n",
              "      <td>atuny0</td>\n",
              "      <td>9uQFF1Lh</td>\n",
              "      <td>...</td>\n",
              "      <td>NO17 0695 2754 967</td>\n",
              "      <td>629 Debbie Drive</td>\n",
              "      <td>Nashville</td>\n",
              "      <td>36.208114</td>\n",
              "      <td>-86.586212</td>\n",
              "      <td>37076</td>\n",
              "      <td>TN</td>\n",
              "      <td>Marketing</td>\n",
              "      <td>Blanda-O'Keefe</td>\n",
              "      <td>Help Desk Operator</td>\n",
              "    </tr>\n",
              "    <tr>\n",
              "      <th>1</th>\n",
              "      <td>2</td>\n",
              "      <td>Sheldon</td>\n",
              "      <td>Quigley</td>\n",
              "      <td>Cole</td>\n",
              "      <td>28</td>\n",
              "      <td>male</td>\n",
              "      <td>hbingley1@plala.or.jp</td>\n",
              "      <td>+7 813 117 7139</td>\n",
              "      <td>hbingley1</td>\n",
              "      <td>CQutx25i8r</td>\n",
              "      <td>...</td>\n",
              "      <td>MD63 L6YC 8YH4 QVQB XHIK MTML</td>\n",
              "      <td>8821 West Myrtle Avenue</td>\n",
              "      <td>Glendale</td>\n",
              "      <td>33.540430</td>\n",
              "      <td>-112.248839</td>\n",
              "      <td>85305</td>\n",
              "      <td>AZ</td>\n",
              "      <td>Services</td>\n",
              "      <td>Aufderhar-Cronin</td>\n",
              "      <td>Senior Cost Accountant</td>\n",
              "    </tr>\n",
              "    <tr>\n",
              "      <th>2</th>\n",
              "      <td>3</td>\n",
              "      <td>Terrill</td>\n",
              "      <td>Hills</td>\n",
              "      <td>Hoeger</td>\n",
              "      <td>38</td>\n",
              "      <td>male</td>\n",
              "      <td>rshawe2@51.la</td>\n",
              "      <td>+63 739 292 7942</td>\n",
              "      <td>rshawe2</td>\n",
              "      <td>OWsTbMUgFc</td>\n",
              "      <td>...</td>\n",
              "      <td>AT24 1095 9625 1434 9703</td>\n",
              "      <td>18 Densmore Drive</td>\n",
              "      <td>Essex</td>\n",
              "      <td>44.492953</td>\n",
              "      <td>-73.101883</td>\n",
              "      <td>5452</td>\n",
              "      <td>VT</td>\n",
              "      <td>Marketing</td>\n",
              "      <td>Lindgren LLC</td>\n",
              "      <td>Mechanical Systems Engineer</td>\n",
              "    </tr>\n",
              "    <tr>\n",
              "      <th>3</th>\n",
              "      <td>4</td>\n",
              "      <td>Miles</td>\n",
              "      <td>Cummerata</td>\n",
              "      <td>Maggio</td>\n",
              "      <td>49</td>\n",
              "      <td>male</td>\n",
              "      <td>yraigatt3@nature.com</td>\n",
              "      <td>+86 461 145 4186</td>\n",
              "      <td>yraigatt3</td>\n",
              "      <td>sRQxjPfdS</td>\n",
              "      <td>...</td>\n",
              "      <td>KZ43 658B M6VS TZOU OXSO</td>\n",
              "      <td>210 Green Road</td>\n",
              "      <td>Manchester</td>\n",
              "      <td>41.790910</td>\n",
              "      <td>-72.511951</td>\n",
              "      <td>6042</td>\n",
              "      <td>CT</td>\n",
              "      <td>Business Development</td>\n",
              "      <td>Wolff and Sons</td>\n",
              "      <td>Paralegal</td>\n",
              "    </tr>\n",
              "    <tr>\n",
              "      <th>4</th>\n",
              "      <td>5</td>\n",
              "      <td>Mavis</td>\n",
              "      <td>Schultz</td>\n",
              "      <td>Yundt</td>\n",
              "      <td>38</td>\n",
              "      <td>male</td>\n",
              "      <td>kmeus4@upenn.edu</td>\n",
              "      <td>+372 285 771 1911</td>\n",
              "      <td>kmeus4</td>\n",
              "      <td>aUTdmmmbH</td>\n",
              "      <td>...</td>\n",
              "      <td>IT41 T114 5127 716J RGYB ZRUX DSJ</td>\n",
              "      <td>8398 West Denton Lane</td>\n",
              "      <td>Glendale</td>\n",
              "      <td>33.515353</td>\n",
              "      <td>-112.240812</td>\n",
              "      <td>85305</td>\n",
              "      <td>AZ</td>\n",
              "      <td>Support</td>\n",
              "      <td>Adams Inc</td>\n",
              "      <td>Web Developer I</td>\n",
              "    </tr>\n",
              "  </tbody>\n",
              "</table>\n",
              "<p>5 rows × 45 columns</p>\n",
              "</div>\n",
              "      <button class=\"colab-df-convert\" onclick=\"convertToInteractive('df-eb233d9d-3d58-4d5b-b31d-fccda117125f')\"\n",
              "              title=\"Convert this dataframe to an interactive table.\"\n",
              "              style=\"display:none;\">\n",
              "        \n",
              "  <svg xmlns=\"http://www.w3.org/2000/svg\" height=\"24px\"viewBox=\"0 0 24 24\"\n",
              "       width=\"24px\">\n",
              "    <path d=\"M0 0h24v24H0V0z\" fill=\"none\"/>\n",
              "    <path d=\"M18.56 5.44l.94 2.06.94-2.06 2.06-.94-2.06-.94-.94-2.06-.94 2.06-2.06.94zm-11 1L8.5 8.5l.94-2.06 2.06-.94-2.06-.94L8.5 2.5l-.94 2.06-2.06.94zm10 10l.94 2.06.94-2.06 2.06-.94-2.06-.94-.94-2.06-.94 2.06-2.06.94z\"/><path d=\"M17.41 7.96l-1.37-1.37c-.4-.4-.92-.59-1.43-.59-.52 0-1.04.2-1.43.59L10.3 9.45l-7.72 7.72c-.78.78-.78 2.05 0 2.83L4 21.41c.39.39.9.59 1.41.59.51 0 1.02-.2 1.41-.59l7.78-7.78 2.81-2.81c.8-.78.8-2.07 0-2.86zM5.41 20L4 18.59l7.72-7.72 1.47 1.35L5.41 20z\"/>\n",
              "  </svg>\n",
              "      </button>\n",
              "      \n",
              "  <style>\n",
              "    .colab-df-container {\n",
              "      display:flex;\n",
              "      flex-wrap:wrap;\n",
              "      gap: 12px;\n",
              "    }\n",
              "\n",
              "    .colab-df-convert {\n",
              "      background-color: #E8F0FE;\n",
              "      border: none;\n",
              "      border-radius: 50%;\n",
              "      cursor: pointer;\n",
              "      display: none;\n",
              "      fill: #1967D2;\n",
              "      height: 32px;\n",
              "      padding: 0 0 0 0;\n",
              "      width: 32px;\n",
              "    }\n",
              "\n",
              "    .colab-df-convert:hover {\n",
              "      background-color: #E2EBFA;\n",
              "      box-shadow: 0px 1px 2px rgba(60, 64, 67, 0.3), 0px 1px 3px 1px rgba(60, 64, 67, 0.15);\n",
              "      fill: #174EA6;\n",
              "    }\n",
              "\n",
              "    [theme=dark] .colab-df-convert {\n",
              "      background-color: #3B4455;\n",
              "      fill: #D2E3FC;\n",
              "    }\n",
              "\n",
              "    [theme=dark] .colab-df-convert:hover {\n",
              "      background-color: #434B5C;\n",
              "      box-shadow: 0px 1px 3px 1px rgba(0, 0, 0, 0.15);\n",
              "      filter: drop-shadow(0px 1px 2px rgba(0, 0, 0, 0.3));\n",
              "      fill: #FFFFFF;\n",
              "    }\n",
              "  </style>\n",
              "\n",
              "      <script>\n",
              "        const buttonEl =\n",
              "          document.querySelector('#df-eb233d9d-3d58-4d5b-b31d-fccda117125f button.colab-df-convert');\n",
              "        buttonEl.style.display =\n",
              "          google.colab.kernel.accessAllowed ? 'block' : 'none';\n",
              "\n",
              "        async function convertToInteractive(key) {\n",
              "          const element = document.querySelector('#df-eb233d9d-3d58-4d5b-b31d-fccda117125f');\n",
              "          const dataTable =\n",
              "            await google.colab.kernel.invokeFunction('convertToInteractive',\n",
              "                                                     [key], {});\n",
              "          if (!dataTable) return;\n",
              "\n",
              "          const docLinkHtml = 'Like what you see? Visit the ' +\n",
              "            '<a target=\"_blank\" href=https://colab.research.google.com/notebooks/data_table.ipynb>data table notebook</a>'\n",
              "            + ' to learn more about interactive tables.';\n",
              "          element.innerHTML = '';\n",
              "          dataTable['output_type'] = 'display_data';\n",
              "          await google.colab.output.renderOutput(dataTable, element);\n",
              "          const docLink = document.createElement('div');\n",
              "          docLink.innerHTML = docLinkHtml;\n",
              "          element.appendChild(docLink);\n",
              "        }\n",
              "      </script>\n",
              "    </div>\n",
              "  </div>\n",
              "  "
            ]
          },
          "metadata": {},
          "execution_count": 29
        }
      ]
    },
    {
      "cell_type": "markdown",
      "source": [
        "В полученных нами данных представлена разнообразная информация - от ФИО пользователей и их даты рождения, до домашних и рабочих адресов.\n",
        "\n",
        "Для начала посмотрим на распределение данных по полу и возрасту наших пользователей - "
      ],
      "metadata": {
        "id": "OFNhNKTP5QVP"
      }
    },
    {
      "cell_type": "code",
      "source": [
        "#построим сводную таблицу с распределением пола пользователей\n",
        "male_female = users.groupby('gender').agg({\n",
        "    'user_id': 'nunique'}).reset_index().rename(\n",
        "        columns={'gender':'Пол', \n",
        "                 'user_id':'Пользователей'\n",
        "})"
      ],
      "metadata": {
        "id": "3P9mw05nCrvG"
      },
      "execution_count": 30,
      "outputs": []
    },
    {
      "cell_type": "code",
      "source": [
        "ax1 = plt.subplot()\n",
        "ax1.pie(\n",
        "    male_female['Пользователей'], \n",
        "    labels=male_female['Пол'], \n",
        "    radius=1.1, \n",
        "    autopct='%1.1f%%', \n",
        "    startangle=90\n",
        "    )\n",
        "\n",
        "plt.legend()\n",
        "plt.xlabel('Пользователей')\n",
        "plt.title('Пол пользователей')\n",
        "plt.show()"
      ],
      "metadata": {
        "colab": {
          "base_uri": "https://localhost:8080/",
          "height": 278
        },
        "id": "0eiZ7-zkPh_E",
        "outputId": "b52429a9-e25b-413c-854f-ae4f33aeb1db"
      },
      "execution_count": 31,
      "outputs": [
        {
          "output_type": "display_data",
          "data": {
            "text/plain": [
              "<Figure size 432x288 with 1 Axes>"
            ],
            "image/png": "[encoded data removed]"
          },
          "metadata": {}
        }
      ]
    },
    {
      "cell_type": "markdown",
      "source": [
        "Как видно на графике, доля мужчин и женщин среди пользователей приблезительно равна (что соответствует распределению полов в общемировом плагне).\n",
        "\n",
        "Далее оценим возрастное распределение пользователей. Для удобства категорезируем пользователей на возрастные группы - "
      ],
      "metadata": {
        "id": "b2Ep5-p8IHsY"
      }
    },
    {
      "cell_type": "code",
      "source": [
        "#напишем функцию categorize_age()\n",
        "def categorize_age(value):  \n",
        "    if value <= 19:\n",
        "        return '0-19'\n",
        "    elif value <= 29: \n",
        "        return '20-29'\n",
        "    elif value <= 39: \n",
        "        return '30-39'\n",
        "    elif value <= 49: \n",
        "        return '40-49'\n",
        "    return '50+'"
      ],
      "metadata": {
        "id": "EotnExDsH-hs"
      },
      "execution_count": 32,
      "outputs": []
    },
    {
      "cell_type": "code",
      "source": [
        "#применим новую функцию\n",
        "users['age_category'] = users['age'].apply(categorize_age)"
      ],
      "metadata": {
        "id": "2idogGByIF6a"
      },
      "execution_count": 33,
      "outputs": []
    },
    {
      "cell_type": "code",
      "source": [
        "#построим сводную таблицу с распределением возраста пользователей\n",
        "ages_sex = users.pivot_table(\n",
        "    index=['age_category', 'gender'], \n",
        "    values='user_id', \n",
        "    aggfunc=['nunique']).droplevel(0,axis=1).reset_index().rename(\n",
        "        columns={\n",
        "        'gender':'Пол', \n",
        "        'age_category':'Возрастная группа',\n",
        "        'user_id' : 'Пользователей'\n",
        "})"
      ],
      "metadata": {
        "id": "59W9XdpD6TO8"
      },
      "execution_count": 34,
      "outputs": []
    },
    {
      "cell_type": "code",
      "source": [
        "ages_sex"
      ],
      "metadata": {
        "colab": {
          "base_uri": "https://localhost:8080/",
          "height": 359
        },
        "id": "AbtHyzNo_C7J",
        "outputId": "17216ebf-c206-4f46-f73a-8945d5fb9577"
      },
      "execution_count": 35,
      "outputs": [
        {
          "output_type": "execute_result",
          "data": {
            "text/plain": [
              "  Возрастная группа     Пол  Пользователей\n",
              "0              0-19  female              3\n",
              "1              0-19    male              2\n",
              "2             20-29  female              9\n",
              "3             20-29    male             18\n",
              "4             30-39  female             15\n",
              "5             30-39    male             16\n",
              "6             40-49  female             19\n",
              "7             40-49    male             15\n",
              "8               50+  female              1\n",
              "9               50+    male              2"
            ],
            "text/html": [
              "\n",
              "  <div id=\"df-e9ac1bd0-ef69-4c48-b882-1072487fefc5\">\n",
              "    <div class=\"colab-df-container\">\n",
              "      <div>\n",
              "<style scoped>\n",
              "    .dataframe tbody tr th:only-of-type {\n",
              "        vertical-align: middle;\n",
              "    }\n",
              "\n",
              "    .dataframe tbody tr th {\n",
              "        vertical-align: top;\n",
              "    }\n",
              "\n",
              "    .dataframe thead th {\n",
              "        text-align: right;\n",
              "    }\n",
              "</style>\n",
              "<table border=\"1\" class=\"dataframe\">\n",
              "  <thead>\n",
              "    <tr style=\"text-align: right;\">\n",
              "      <th></th>\n",
              "      <th>Возрастная группа</th>\n",
              "      <th>Пол</th>\n",
              "      <th>Пользователей</th>\n",
              "    </tr>\n",
              "  </thead>\n",
              "  <tbody>\n",
              "    <tr>\n",
              "      <th>0</th>\n",
              "      <td>0-19</td>\n",
              "      <td>female</td>\n",
              "      <td>3</td>\n",
              "    </tr>\n",
              "    <tr>\n",
              "      <th>1</th>\n",
              "      <td>0-19</td>\n",
              "      <td>male</td>\n",
              "      <td>2</td>\n",
              "    </tr>\n",
              "    <tr>\n",
              "      <th>2</th>\n",
              "      <td>20-29</td>\n",
              "      <td>female</td>\n",
              "      <td>9</td>\n",
              "    </tr>\n",
              "    <tr>\n",
              "      <th>3</th>\n",
              "      <td>20-29</td>\n",
              "      <td>male</td>\n",
              "      <td>18</td>\n",
              "    </tr>\n",
              "    <tr>\n",
              "      <th>4</th>\n",
              "      <td>30-39</td>\n",
              "      <td>female</td>\n",
              "      <td>15</td>\n",
              "    </tr>\n",
              "    <tr>\n",
              "      <th>5</th>\n",
              "      <td>30-39</td>\n",
              "      <td>male</td>\n",
              "      <td>16</td>\n",
              "    </tr>\n",
              "    <tr>\n",
              "      <th>6</th>\n",
              "      <td>40-49</td>\n",
              "      <td>female</td>\n",
              "      <td>19</td>\n",
              "    </tr>\n",
              "    <tr>\n",
              "      <th>7</th>\n",
              "      <td>40-49</td>\n",
              "      <td>male</td>\n",
              "      <td>15</td>\n",
              "    </tr>\n",
              "    <tr>\n",
              "      <th>8</th>\n",
              "      <td>50+</td>\n",
              "      <td>female</td>\n",
              "      <td>1</td>\n",
              "    </tr>\n",
              "    <tr>\n",
              "      <th>9</th>\n",
              "      <td>50+</td>\n",
              "      <td>male</td>\n",
              "      <td>2</td>\n",
              "    </tr>\n",
              "  </tbody>\n",
              "</table>\n",
              "</div>\n",
              "      <button class=\"colab-df-convert\" onclick=\"convertToInteractive('df-e9ac1bd0-ef69-4c48-b882-1072487fefc5')\"\n",
              "              title=\"Convert this dataframe to an interactive table.\"\n",
              "              style=\"display:none;\">\n",
              "        \n",
              "  <svg xmlns=\"http://www.w3.org/2000/svg\" height=\"24px\"viewBox=\"0 0 24 24\"\n",
              "       width=\"24px\">\n",
              "    <path d=\"M0 0h24v24H0V0z\" fill=\"none\"/>\n",
              "    <path d=\"M18.56 5.44l.94 2.06.94-2.06 2.06-.94-2.06-.94-.94-2.06-.94 2.06-2.06.94zm-11 1L8.5 8.5l.94-2.06 2.06-.94-2.06-.94L8.5 2.5l-.94 2.06-2.06.94zm10 10l.94 2.06.94-2.06 2.06-.94-2.06-.94-.94-2.06-.94 2.06-2.06.94z\"/><path d=\"M17.41 7.96l-1.37-1.37c-.4-.4-.92-.59-1.43-.59-.52 0-1.04.2-1.43.59L10.3 9.45l-7.72 7.72c-.78.78-.78 2.05 0 2.83L4 21.41c.39.39.9.59 1.41.59.51 0 1.02-.2 1.41-.59l7.78-7.78 2.81-2.81c.8-.78.8-2.07 0-2.86zM5.41 20L4 18.59l7.72-7.72 1.47 1.35L5.41 20z\"/>\n",
              "  </svg>\n",
              "      </button>\n",
              "      \n",
              "  <style>\n",
              "    .colab-df-container {\n",
              "      display:flex;\n",
              "      flex-wrap:wrap;\n",
              "      gap: 12px;\n",
              "    }\n",
              "\n",
              "    .colab-df-convert {\n",
              "      background-color: #E8F0FE;\n",
              "      border: none;\n",
              "      border-radius: 50%;\n",
              "      cursor: pointer;\n",
              "      display: none;\n",
              "      fill: #1967D2;\n",
              "      height: 32px;\n",
              "      padding: 0 0 0 0;\n",
              "      width: 32px;\n",
              "    }\n",
              "\n",
              "    .colab-df-convert:hover {\n",
              "      background-color: #E2EBFA;\n",
              "      box-shadow: 0px 1px 2px rgba(60, 64, 67, 0.3), 0px 1px 3px 1px rgba(60, 64, 67, 0.15);\n",
              "      fill: #174EA6;\n",
              "    }\n",
              "\n",
              "    [theme=dark] .colab-df-convert {\n",
              "      background-color: #3B4455;\n",
              "      fill: #D2E3FC;\n",
              "    }\n",
              "\n",
              "    [theme=dark] .colab-df-convert:hover {\n",
              "      background-color: #434B5C;\n",
              "      box-shadow: 0px 1px 3px 1px rgba(0, 0, 0, 0.15);\n",
              "      filter: drop-shadow(0px 1px 2px rgba(0, 0, 0, 0.3));\n",
              "      fill: #FFFFFF;\n",
              "    }\n",
              "  </style>\n",
              "\n",
              "      <script>\n",
              "        const buttonEl =\n",
              "          document.querySelector('#df-e9ac1bd0-ef69-4c48-b882-1072487fefc5 button.colab-df-convert');\n",
              "        buttonEl.style.display =\n",
              "          google.colab.kernel.accessAllowed ? 'block' : 'none';\n",
              "\n",
              "        async function convertToInteractive(key) {\n",
              "          const element = document.querySelector('#df-e9ac1bd0-ef69-4c48-b882-1072487fefc5');\n",
              "          const dataTable =\n",
              "            await google.colab.kernel.invokeFunction('convertToInteractive',\n",
              "                                                     [key], {});\n",
              "          if (!dataTable) return;\n",
              "\n",
              "          const docLinkHtml = 'Like what you see? Visit the ' +\n",
              "            '<a target=\"_blank\" href=https://colab.research.google.com/notebooks/data_table.ipynb>data table notebook</a>'\n",
              "            + ' to learn more about interactive tables.';\n",
              "          element.innerHTML = '';\n",
              "          dataTable['output_type'] = 'display_data';\n",
              "          await google.colab.output.renderOutput(dataTable, element);\n",
              "          const docLink = document.createElement('div');\n",
              "          docLink.innerHTML = docLinkHtml;\n",
              "          element.appendChild(docLink);\n",
              "        }\n",
              "      </script>\n",
              "    </div>\n",
              "  </div>\n",
              "  "
            ]
          },
          "metadata": {},
          "execution_count": 35
        }
      ]
    },
    {
      "cell_type": "code",
      "source": [
        "#сделаем срез нашей сводной таблицы и построим графики в соответствии с полом автором\n",
        "woman = ages_sex.query('Пол == \"female\"')"
      ],
      "metadata": {
        "id": "5215z4SG6g2e"
      },
      "execution_count": 36,
      "outputs": []
    },
    {
      "cell_type": "code",
      "source": [
        "#воспользуемся библиотекой Seaborn, чтобы построить столбчатую диаграмму \n",
        "#первый график — распределение женщин по возрасту\n",
        "sns.barplot(data=woman, x=\"Возрастная группа\", y=\"Пользователей\")\n",
        "plt.title('Распределение женщин по возрасту');"
      ],
      "metadata": {
        "colab": {
          "base_uri": "https://localhost:8080/",
          "height": 295
        },
        "id": "BVgqQXgppXrF",
        "outputId": "d1ab9433-ac0f-45e7-a156-a005980e35ef"
      },
      "execution_count": 63,
      "outputs": [
        {
          "output_type": "display_data",
          "data": {
            "text/plain": [
              "<Figure size 432x288 with 1 Axes>"
            ],
            "image/png": "[encoded data removed]"
          },
          "metadata": {
            "needs_background": "light"
          }
        }
      ]
    },
    {
      "cell_type": "code",
      "source": [
        "man = ages_sex.query('Пол == \"male\"')"
      ],
      "metadata": {
        "id": "Bh5TCdzf7D4K"
      },
      "execution_count": 38,
      "outputs": []
    },
    {
      "cell_type": "code",
      "source": [
        "# второй график — распределение мужчин по возрасту\n",
        "sns.barplot(data=man, x=\"Возрастная группа\", y=\"Пользователей\")\n",
        "plt.title('Распределение мужчин по возрасту');"
      ],
      "metadata": {
        "colab": {
          "base_uri": "https://localhost:8080/",
          "height": 295
        },
        "id": "q-jbQKiMpdnC",
        "outputId": "6bf49c47-2478-4497-f43f-46f7fc157223"
      },
      "execution_count": 65,
      "outputs": [
        {
          "output_type": "display_data",
          "data": {
            "text/plain": [
              "<Figure size 432x288 with 1 Axes>"
            ],
            "image/png": "[encoded data removed]"
          },
          "metadata": {
            "needs_background": "light"
          }
        }
      ]
    },
    {
      "cell_type": "markdown",
      "source": [
        "Большая часть пользователей имеет возраст 20-50 лет. \n",
        "\n",
        "Доли людей в возрасте до 30, 40 и 50 лет среди мужчин и женщин распределены не равномерно. \n",
        "Самая многочисленная группа среди женщин - `40-49`, самая малочисленная категория - `50+`. \n",
        "\n",
        "Среди мужчин пользователей наблюдается обратная тенденция - самая многочисленная группа пользователей `20-29`, самая малочисленная группа как и у женщин в категории `50+`. "
      ],
      "metadata": {
        "id": "_ULtyJCoaz5y"
      }
    },
    {
      "cell_type": "code",
      "source": [
        "#составим сводную таблицу городов, где чаще всего проживают пользователи\n",
        "users_city = users.pivot_table(\n",
        "    index='home_city', \n",
        "    values=['user_id'], \n",
        "    aggfunc=['nunique']\n",
        ").droplevel(0,axis=1).reset_index().rename(columns={\n",
        "        'home_city':'Город проживания', \n",
        "        'user_id':'Пользователей'\n",
        "}).sort_values(by='Пользователей', ascending=False)"
      ],
      "metadata": {
        "id": "PrifMe0lrC2r"
      },
      "execution_count": 40,
      "outputs": []
    },
    {
      "cell_type": "code",
      "source": [
        "users_city.head(10)"
      ],
      "metadata": {
        "colab": {
          "base_uri": "https://localhost:8080/",
          "height": 359
        },
        "id": "vd-T2Z5_rCzj",
        "outputId": "35117050-8b89-4d46-a982-b3f2c4026a5a"
      },
      "execution_count": 41,
      "outputs": [
        {
          "output_type": "execute_result",
          "data": {
            "text/plain": [
              "   Город проживания  Пользователей\n",
              "28        Nashville             10\n",
              "20         Glendale              8\n",
              "2         Anchorage              7\n",
              "39       Washington              7\n",
              "25       Manchester              7\n",
              "24       Louisville              6\n",
              "16     Fayetteville              6\n",
              "36         Savannah              4\n",
              "27       Montgomery              3\n",
              "31      Panama City              3"
            ],
            "text/html": [
              "\n",
              "  <div id=\"df-7674bd72-0c38-4c2c-9966-f2217a7ba236\">\n",
              "    <div class=\"colab-df-container\">\n",
              "      <div>\n",
              "<style scoped>\n",
              "    .dataframe tbody tr th:only-of-type {\n",
              "        vertical-align: middle;\n",
              "    }\n",
              "\n",
              "    .dataframe tbody tr th {\n",
              "        vertical-align: top;\n",
              "    }\n",
              "\n",
              "    .dataframe thead th {\n",
              "        text-align: right;\n",
              "    }\n",
              "</style>\n",
              "<table border=\"1\" class=\"dataframe\">\n",
              "  <thead>\n",
              "    <tr style=\"text-align: right;\">\n",
              "      <th></th>\n",
              "      <th>Город проживания</th>\n",
              "      <th>Пользователей</th>\n",
              "    </tr>\n",
              "  </thead>\n",
              "  <tbody>\n",
              "    <tr>\n",
              "      <th>28</th>\n",
              "      <td>Nashville</td>\n",
              "      <td>10</td>\n",
              "    </tr>\n",
              "    <tr>\n",
              "      <th>20</th>\n",
              "      <td>Glendale</td>\n",
              "      <td>8</td>\n",
              "    </tr>\n",
              "    <tr>\n",
              "      <th>2</th>\n",
              "      <td>Anchorage</td>\n",
              "      <td>7</td>\n",
              "    </tr>\n",
              "    <tr>\n",
              "      <th>39</th>\n",
              "      <td>Washington</td>\n",
              "      <td>7</td>\n",
              "    </tr>\n",
              "    <tr>\n",
              "      <th>25</th>\n",
              "      <td>Manchester</td>\n",
              "      <td>7</td>\n",
              "    </tr>\n",
              "    <tr>\n",
              "      <th>24</th>\n",
              "      <td>Louisville</td>\n",
              "      <td>6</td>\n",
              "    </tr>\n",
              "    <tr>\n",
              "      <th>16</th>\n",
              "      <td>Fayetteville</td>\n",
              "      <td>6</td>\n",
              "    </tr>\n",
              "    <tr>\n",
              "      <th>36</th>\n",
              "      <td>Savannah</td>\n",
              "      <td>4</td>\n",
              "    </tr>\n",
              "    <tr>\n",
              "      <th>27</th>\n",
              "      <td>Montgomery</td>\n",
              "      <td>3</td>\n",
              "    </tr>\n",
              "    <tr>\n",
              "      <th>31</th>\n",
              "      <td>Panama City</td>\n",
              "      <td>3</td>\n",
              "    </tr>\n",
              "  </tbody>\n",
              "</table>\n",
              "</div>\n",
              "      <button class=\"colab-df-convert\" onclick=\"convertToInteractive('df-7674bd72-0c38-4c2c-9966-f2217a7ba236')\"\n",
              "              title=\"Convert this dataframe to an interactive table.\"\n",
              "              style=\"display:none;\">\n",
              "        \n",
              "  <svg xmlns=\"http://www.w3.org/2000/svg\" height=\"24px\"viewBox=\"0 0 24 24\"\n",
              "       width=\"24px\">\n",
              "    <path d=\"M0 0h24v24H0V0z\" fill=\"none\"/>\n",
              "    <path d=\"M18.56 5.44l.94 2.06.94-2.06 2.06-.94-2.06-.94-.94-2.06-.94 2.06-2.06.94zm-11 1L8.5 8.5l.94-2.06 2.06-.94-2.06-.94L8.5 2.5l-.94 2.06-2.06.94zm10 10l.94 2.06.94-2.06 2.06-.94-2.06-.94-.94-2.06-.94 2.06-2.06.94z\"/><path d=\"M17.41 7.96l-1.37-1.37c-.4-.4-.92-.59-1.43-.59-.52 0-1.04.2-1.43.59L10.3 9.45l-7.72 7.72c-.78.78-.78 2.05 0 2.83L4 21.41c.39.39.9.59 1.41.59.51 0 1.02-.2 1.41-.59l7.78-7.78 2.81-2.81c.8-.78.8-2.07 0-2.86zM5.41 20L4 18.59l7.72-7.72 1.47 1.35L5.41 20z\"/>\n",
              "  </svg>\n",
              "      </button>\n",
              "      \n",
              "  <style>\n",
              "    .colab-df-container {\n",
              "      display:flex;\n",
              "      flex-wrap:wrap;\n",
              "      gap: 12px;\n",
              "    }\n",
              "\n",
              "    .colab-df-convert {\n",
              "      background-color: #E8F0FE;\n",
              "      border: none;\n",
              "      border-radius: 50%;\n",
              "      cursor: pointer;\n",
              "      display: none;\n",
              "      fill: #1967D2;\n",
              "      height: 32px;\n",
              "      padding: 0 0 0 0;\n",
              "      width: 32px;\n",
              "    }\n",
              "\n",
              "    .colab-df-convert:hover {\n",
              "      background-color: #E2EBFA;\n",
              "      box-shadow: 0px 1px 2px rgba(60, 64, 67, 0.3), 0px 1px 3px 1px rgba(60, 64, 67, 0.15);\n",
              "      fill: #174EA6;\n",
              "    }\n",
              "\n",
              "    [theme=dark] .colab-df-convert {\n",
              "      background-color: #3B4455;\n",
              "      fill: #D2E3FC;\n",
              "    }\n",
              "\n",
              "    [theme=dark] .colab-df-convert:hover {\n",
              "      background-color: #434B5C;\n",
              "      box-shadow: 0px 1px 3px 1px rgba(0, 0, 0, 0.15);\n",
              "      filter: drop-shadow(0px 1px 2px rgba(0, 0, 0, 0.3));\n",
              "      fill: #FFFFFF;\n",
              "    }\n",
              "  </style>\n",
              "\n",
              "      <script>\n",
              "        const buttonEl =\n",
              "          document.querySelector('#df-7674bd72-0c38-4c2c-9966-f2217a7ba236 button.colab-df-convert');\n",
              "        buttonEl.style.display =\n",
              "          google.colab.kernel.accessAllowed ? 'block' : 'none';\n",
              "\n",
              "        async function convertToInteractive(key) {\n",
              "          const element = document.querySelector('#df-7674bd72-0c38-4c2c-9966-f2217a7ba236');\n",
              "          const dataTable =\n",
              "            await google.colab.kernel.invokeFunction('convertToInteractive',\n",
              "                                                     [key], {});\n",
              "          if (!dataTable) return;\n",
              "\n",
              "          const docLinkHtml = 'Like what you see? Visit the ' +\n",
              "            '<a target=\"_blank\" href=https://colab.research.google.com/notebooks/data_table.ipynb>data table notebook</a>'\n",
              "            + ' to learn more about interactive tables.';\n",
              "          element.innerHTML = '';\n",
              "          dataTable['output_type'] = 'display_data';\n",
              "          await google.colab.output.renderOutput(dataTable, element);\n",
              "          const docLink = document.createElement('div');\n",
              "          docLink.innerHTML = docLinkHtml;\n",
              "          element.appendChild(docLink);\n",
              "        }\n",
              "      </script>\n",
              "    </div>\n",
              "  </div>\n",
              "  "
            ]
          },
          "metadata": {},
          "execution_count": 41
        }
      ]
    },
    {
      "cell_type": "code",
      "source": [
        "#составим сводную таблицу городов, где чаще всего работают пользователи\n",
        "users_company_city = users.pivot_table(\n",
        "    index='company_city', \n",
        "    values=['user_id'], \n",
        "    aggfunc=['nunique']\n",
        ").droplevel(0,axis=1).reset_index().rename(columns={\n",
        "        'company_city':'Город работы', \n",
        "        'user_id':'Пользователей'\n",
        "}).sort_values(by='Пользователей', ascending=False)"
      ],
      "metadata": {
        "id": "zgS3WbykW2Tb"
      },
      "execution_count": 42,
      "outputs": []
    },
    {
      "cell_type": "code",
      "source": [
        "users_company_city.head(10)"
      ],
      "metadata": {
        "colab": {
          "base_uri": "https://localhost:8080/",
          "height": 359
        },
        "id": "C6AvURY4W16u",
        "outputId": "eb79ef0c-656b-44ea-9b00-3bafeafeb558"
      },
      "execution_count": 43,
      "outputs": [
        {
          "output_type": "execute_result",
          "data": {
            "text/plain": [
              "      Город работы  Пользователей\n",
              "15    Fayetteville             11\n",
              "18        Glendale             10\n",
              "25       Nashville              9\n",
              "33      Washington              7\n",
              "22      Manchester              7\n",
              "2        Anchorage              6\n",
              "29        Pasadena              3\n",
              "27     Panama City              3\n",
              "19  Grand Junction              3\n",
              "17     Glen Burnie              3"
            ],
            "text/html": [
              "\n",
              "  <div id=\"df-60855de2-acbb-497e-98eb-6ed45f9e815f\">\n",
              "    <div class=\"colab-df-container\">\n",
              "      <div>\n",
              "<style scoped>\n",
              "    .dataframe tbody tr th:only-of-type {\n",
              "        vertical-align: middle;\n",
              "    }\n",
              "\n",
              "    .dataframe tbody tr th {\n",
              "        vertical-align: top;\n",
              "    }\n",
              "\n",
              "    .dataframe thead th {\n",
              "        text-align: right;\n",
              "    }\n",
              "</style>\n",
              "<table border=\"1\" class=\"dataframe\">\n",
              "  <thead>\n",
              "    <tr style=\"text-align: right;\">\n",
              "      <th></th>\n",
              "      <th>Город работы</th>\n",
              "      <th>Пользователей</th>\n",
              "    </tr>\n",
              "  </thead>\n",
              "  <tbody>\n",
              "    <tr>\n",
              "      <th>15</th>\n",
              "      <td>Fayetteville</td>\n",
              "      <td>11</td>\n",
              "    </tr>\n",
              "    <tr>\n",
              "      <th>18</th>\n",
              "      <td>Glendale</td>\n",
              "      <td>10</td>\n",
              "    </tr>\n",
              "    <tr>\n",
              "      <th>25</th>\n",
              "      <td>Nashville</td>\n",
              "      <td>9</td>\n",
              "    </tr>\n",
              "    <tr>\n",
              "      <th>33</th>\n",
              "      <td>Washington</td>\n",
              "      <td>7</td>\n",
              "    </tr>\n",
              "    <tr>\n",
              "      <th>22</th>\n",
              "      <td>Manchester</td>\n",
              "      <td>7</td>\n",
              "    </tr>\n",
              "    <tr>\n",
              "      <th>2</th>\n",
              "      <td>Anchorage</td>\n",
              "      <td>6</td>\n",
              "    </tr>\n",
              "    <tr>\n",
              "      <th>29</th>\n",
              "      <td>Pasadena</td>\n",
              "      <td>3</td>\n",
              "    </tr>\n",
              "    <tr>\n",
              "      <th>27</th>\n",
              "      <td>Panama City</td>\n",
              "      <td>3</td>\n",
              "    </tr>\n",
              "    <tr>\n",
              "      <th>19</th>\n",
              "      <td>Grand Junction</td>\n",
              "      <td>3</td>\n",
              "    </tr>\n",
              "    <tr>\n",
              "      <th>17</th>\n",
              "      <td>Glen Burnie</td>\n",
              "      <td>3</td>\n",
              "    </tr>\n",
              "  </tbody>\n",
              "</table>\n",
              "</div>\n",
              "      <button class=\"colab-df-convert\" onclick=\"convertToInteractive('df-60855de2-acbb-497e-98eb-6ed45f9e815f')\"\n",
              "              title=\"Convert this dataframe to an interactive table.\"\n",
              "              style=\"display:none;\">\n",
              "        \n",
              "  <svg xmlns=\"http://www.w3.org/2000/svg\" height=\"24px\"viewBox=\"0 0 24 24\"\n",
              "       width=\"24px\">\n",
              "    <path d=\"M0 0h24v24H0V0z\" fill=\"none\"/>\n",
              "    <path d=\"M18.56 5.44l.94 2.06.94-2.06 2.06-.94-2.06-.94-.94-2.06-.94 2.06-2.06.94zm-11 1L8.5 8.5l.94-2.06 2.06-.94-2.06-.94L8.5 2.5l-.94 2.06-2.06.94zm10 10l.94 2.06.94-2.06 2.06-.94-2.06-.94-.94-2.06-.94 2.06-2.06.94z\"/><path d=\"M17.41 7.96l-1.37-1.37c-.4-.4-.92-.59-1.43-.59-.52 0-1.04.2-1.43.59L10.3 9.45l-7.72 7.72c-.78.78-.78 2.05 0 2.83L4 21.41c.39.39.9.59 1.41.59.51 0 1.02-.2 1.41-.59l7.78-7.78 2.81-2.81c.8-.78.8-2.07 0-2.86zM5.41 20L4 18.59l7.72-7.72 1.47 1.35L5.41 20z\"/>\n",
              "  </svg>\n",
              "      </button>\n",
              "      \n",
              "  <style>\n",
              "    .colab-df-container {\n",
              "      display:flex;\n",
              "      flex-wrap:wrap;\n",
              "      gap: 12px;\n",
              "    }\n",
              "\n",
              "    .colab-df-convert {\n",
              "      background-color: #E8F0FE;\n",
              "      border: none;\n",
              "      border-radius: 50%;\n",
              "      cursor: pointer;\n",
              "      display: none;\n",
              "      fill: #1967D2;\n",
              "      height: 32px;\n",
              "      padding: 0 0 0 0;\n",
              "      width: 32px;\n",
              "    }\n",
              "\n",
              "    .colab-df-convert:hover {\n",
              "      background-color: #E2EBFA;\n",
              "      box-shadow: 0px 1px 2px rgba(60, 64, 67, 0.3), 0px 1px 3px 1px rgba(60, 64, 67, 0.15);\n",
              "      fill: #174EA6;\n",
              "    }\n",
              "\n",
              "    [theme=dark] .colab-df-convert {\n",
              "      background-color: #3B4455;\n",
              "      fill: #D2E3FC;\n",
              "    }\n",
              "\n",
              "    [theme=dark] .colab-df-convert:hover {\n",
              "      background-color: #434B5C;\n",
              "      box-shadow: 0px 1px 3px 1px rgba(0, 0, 0, 0.15);\n",
              "      filter: drop-shadow(0px 1px 2px rgba(0, 0, 0, 0.3));\n",
              "      fill: #FFFFFF;\n",
              "    }\n",
              "  </style>\n",
              "\n",
              "      <script>\n",
              "        const buttonEl =\n",
              "          document.querySelector('#df-60855de2-acbb-497e-98eb-6ed45f9e815f button.colab-df-convert');\n",
              "        buttonEl.style.display =\n",
              "          google.colab.kernel.accessAllowed ? 'block' : 'none';\n",
              "\n",
              "        async function convertToInteractive(key) {\n",
              "          const element = document.querySelector('#df-60855de2-acbb-497e-98eb-6ed45f9e815f');\n",
              "          const dataTable =\n",
              "            await google.colab.kernel.invokeFunction('convertToInteractive',\n",
              "                                                     [key], {});\n",
              "          if (!dataTable) return;\n",
              "\n",
              "          const docLinkHtml = 'Like what you see? Visit the ' +\n",
              "            '<a target=\"_blank\" href=https://colab.research.google.com/notebooks/data_table.ipynb>data table notebook</a>'\n",
              "            + ' to learn more about interactive tables.';\n",
              "          element.innerHTML = '';\n",
              "          dataTable['output_type'] = 'display_data';\n",
              "          await google.colab.output.renderOutput(dataTable, element);\n",
              "          const docLink = document.createElement('div');\n",
              "          docLink.innerHTML = docLinkHtml;\n",
              "          element.appendChild(docLink);\n",
              "        }\n",
              "      </script>\n",
              "    </div>\n",
              "  </div>\n",
              "  "
            ]
          },
          "metadata": {},
          "execution_count": 43
        }
      ]
    },
    {
      "cell_type": "markdown",
      "source": [
        "География продаж - ключ к успеху бизнеса. Зная точно, где живут и работают пользователи, можно выстраивать операционные бизнес-процессы с наменьшими издержками - оптимизируя затраты на логистику поставок и доставок, пункты выдачи. \n",
        "\n",
        "Исходя из сводных таблиц городов проживания и работы видим, что ТОП города частично совпадают, но поскольку данный рынок новый для нас, сложно точно оценить насколько эти города рядом.\n",
        "\n",
        "В выгруженной базе пользователей присутствуют координаты (широта/долгота) каждого адреса пользователя - перенесем эти координаты на диаграмму рассеяния, чтобы сравнить географию домашних и рабочих адресов (где каждая точка будет равна одному конкретному адресу). "
      ],
      "metadata": {
        "id": "HuNW60x3kf11"
      }
    },
    {
      "cell_type": "code",
      "source": [
        "# первый график — домашние адреса клиентов \n",
        "ax1 = plt.subplot(1, 2, 1) \n",
        "users.plot(\n",
        "    x='home_coordinates_lat', \n",
        "    y='home_coordinates_lng', \n",
        "    kind='scatter', \n",
        "    alpha=0.6, #данный параметр поможет нам увидеть плотность адресов в каждой отдельной точке, если они совпадают \n",
        "    color='g',\n",
        "    figsize=(10, 5), \n",
        "    grid=True,  \n",
        "    ax=ax1)\n",
        "plt.ylabel('Долгота')\n",
        "plt.xlabel('Широта') \n",
        "plt.title('География домашних адресов')\n",
        "\n",
        "# второй график — рабочие адреса клиентов \n",
        "ax2 = plt.subplot(1, 2, 2, sharey=ax1) #воспользуемся параметром sharey, чтобы для наглядности отобразить графике на одной оси X\n",
        "users.plot(\n",
        "    x='company_coordinates_lat', \n",
        "    y='company_coordinates_lng', \n",
        "    kind='scatter', \n",
        "    alpha=0.6, \n",
        "    color='g',\n",
        "    figsize=(10, 5), \n",
        "    grid=True, \n",
        "    ax=ax2)\n",
        "plt.xlabel('Широта')\n",
        "plt.title('География рабочих адресов')\n",
        "\n",
        "plt.tight_layout() \n",
        "plt.show()"
      ],
      "metadata": {
        "colab": {
          "base_uri": "https://localhost:8080/",
          "height": 369
        },
        "id": "PAl6R4OyjJ00",
        "outputId": "19f731bd-16a3-4212-85d0-6dd6103f2b09"
      },
      "execution_count": 44,
      "outputs": [
        {
          "output_type": "display_data",
          "data": {
            "text/plain": [
              "<Figure size 720x360 with 2 Axes>"
            ],
            "image/png": "[encoded data removed]"
          },
          "metadata": {
            "needs_background": "light"
          }
        }
      ]
    },
    {
      "cell_type": "markdown",
      "source": [
        "Как видим на диаграмме рассеяния точки домашних и рабочих адресов пользователей на координатной оси в большинстве случаев совпадают (или географически близки друг к другу) - различия в сводных таблицах количества жителей и работников по городам могут означать маятниковую миграцию. \n",
        "\n",
        "Графики выше позволили нам выявить города (точки на карте), на которые мы сможем опираться в первую очередь при разработке бизнес-стратегии.\n",
        "\n",
        "Далее перейдем к анализу платежных данных пользователей, чтобы определить параметры будущей платежной системы нашего маркетплейса. \n",
        "\n",
        "Ключевые параметры для нас - платежные системы и валюты оплаты."
      ],
      "metadata": {
        "id": "zFDDf4idnZJF"
      }
    },
    {
      "cell_type": "code",
      "source": [
        "#построим сводную таблицу по платежным системам пользователей\n",
        "users_card_type = users.pivot_table(\n",
        "    index='bank_card_type', \n",
        "    values=['user_id'], \n",
        "    aggfunc=['nunique']\n",
        ").droplevel(0,axis=1).reset_index().rename(columns={\n",
        "        'bank_card_type':'Платежная система', \n",
        "        'user_id':'Пользователей'\n",
        "}).sort_values(by='Пользователей', ascending=False)"
      ],
      "metadata": {
        "id": "MAdk6vQQrCwa"
      },
      "execution_count": 45,
      "outputs": []
    },
    {
      "cell_type": "code",
      "source": [
        "users_card_type.head(10)"
      ],
      "metadata": {
        "colab": {
          "base_uri": "https://localhost:8080/",
          "height": 359
        },
        "id": "aPrBbg_9rCtG",
        "outputId": "b1c0cffe-3b28-4f21-8b6d-b7cb387ca738"
      },
      "execution_count": 46,
      "outputs": [
        {
          "output_type": "execute_result",
          "data": {
            "text/plain": [
              "            Платежная система  Пользователей\n",
              "7                         jcb             46\n",
              "4         diners-club-enroute              9\n",
              "9                     maestro              9\n",
              "10                 mastercard              7\n",
              "3   diners-club-carte-blanche              5\n",
              "0             americanexpress              4\n",
              "1                    bankcard              4\n",
              "12                     switch              4\n",
              "8                       laser              3\n",
              "5           diners-club-us-ca              2"
            ],
            "text/html": [
              "\n",
              "  <div id=\"df-a761b497-bfc0-49e5-a8dd-b0a68c32dfbe\">\n",
              "    <div class=\"colab-df-container\">\n",
              "      <div>\n",
              "<style scoped>\n",
              "    .dataframe tbody tr th:only-of-type {\n",
              "        vertical-align: middle;\n",
              "    }\n",
              "\n",
              "    .dataframe tbody tr th {\n",
              "        vertical-align: top;\n",
              "    }\n",
              "\n",
              "    .dataframe thead th {\n",
              "        text-align: right;\n",
              "    }\n",
              "</style>\n",
              "<table border=\"1\" class=\"dataframe\">\n",
              "  <thead>\n",
              "    <tr style=\"text-align: right;\">\n",
              "      <th></th>\n",
              "      <th>Платежная система</th>\n",
              "      <th>Пользователей</th>\n",
              "    </tr>\n",
              "  </thead>\n",
              "  <tbody>\n",
              "    <tr>\n",
              "      <th>7</th>\n",
              "      <td>jcb</td>\n",
              "      <td>46</td>\n",
              "    </tr>\n",
              "    <tr>\n",
              "      <th>4</th>\n",
              "      <td>diners-club-enroute</td>\n",
              "      <td>9</td>\n",
              "    </tr>\n",
              "    <tr>\n",
              "      <th>9</th>\n",
              "      <td>maestro</td>\n",
              "      <td>9</td>\n",
              "    </tr>\n",
              "    <tr>\n",
              "      <th>10</th>\n",
              "      <td>mastercard</td>\n",
              "      <td>7</td>\n",
              "    </tr>\n",
              "    <tr>\n",
              "      <th>3</th>\n",
              "      <td>diners-club-carte-blanche</td>\n",
              "      <td>5</td>\n",
              "    </tr>\n",
              "    <tr>\n",
              "      <th>0</th>\n",
              "      <td>americanexpress</td>\n",
              "      <td>4</td>\n",
              "    </tr>\n",
              "    <tr>\n",
              "      <th>1</th>\n",
              "      <td>bankcard</td>\n",
              "      <td>4</td>\n",
              "    </tr>\n",
              "    <tr>\n",
              "      <th>12</th>\n",
              "      <td>switch</td>\n",
              "      <td>4</td>\n",
              "    </tr>\n",
              "    <tr>\n",
              "      <th>8</th>\n",
              "      <td>laser</td>\n",
              "      <td>3</td>\n",
              "    </tr>\n",
              "    <tr>\n",
              "      <th>5</th>\n",
              "      <td>diners-club-us-ca</td>\n",
              "      <td>2</td>\n",
              "    </tr>\n",
              "  </tbody>\n",
              "</table>\n",
              "</div>\n",
              "      <button class=\"colab-df-convert\" onclick=\"convertToInteractive('df-a761b497-bfc0-49e5-a8dd-b0a68c32dfbe')\"\n",
              "              title=\"Convert this dataframe to an interactive table.\"\n",
              "              style=\"display:none;\">\n",
              "        \n",
              "  <svg xmlns=\"http://www.w3.org/2000/svg\" height=\"24px\"viewBox=\"0 0 24 24\"\n",
              "       width=\"24px\">\n",
              "    <path d=\"M0 0h24v24H0V0z\" fill=\"none\"/>\n",
              "    <path d=\"M18.56 5.44l.94 2.06.94-2.06 2.06-.94-2.06-.94-.94-2.06-.94 2.06-2.06.94zm-11 1L8.5 8.5l.94-2.06 2.06-.94-2.06-.94L8.5 2.5l-.94 2.06-2.06.94zm10 10l.94 2.06.94-2.06 2.06-.94-2.06-.94-.94-2.06-.94 2.06-2.06.94z\"/><path d=\"M17.41 7.96l-1.37-1.37c-.4-.4-.92-.59-1.43-.59-.52 0-1.04.2-1.43.59L10.3 9.45l-7.72 7.72c-.78.78-.78 2.05 0 2.83L4 21.41c.39.39.9.59 1.41.59.51 0 1.02-.2 1.41-.59l7.78-7.78 2.81-2.81c.8-.78.8-2.07 0-2.86zM5.41 20L4 18.59l7.72-7.72 1.47 1.35L5.41 20z\"/>\n",
              "  </svg>\n",
              "      </button>\n",
              "      \n",
              "  <style>\n",
              "    .colab-df-container {\n",
              "      display:flex;\n",
              "      flex-wrap:wrap;\n",
              "      gap: 12px;\n",
              "    }\n",
              "\n",
              "    .colab-df-convert {\n",
              "      background-color: #E8F0FE;\n",
              "      border: none;\n",
              "      border-radius: 50%;\n",
              "      cursor: pointer;\n",
              "      display: none;\n",
              "      fill: #1967D2;\n",
              "      height: 32px;\n",
              "      padding: 0 0 0 0;\n",
              "      width: 32px;\n",
              "    }\n",
              "\n",
              "    .colab-df-convert:hover {\n",
              "      background-color: #E2EBFA;\n",
              "      box-shadow: 0px 1px 2px rgba(60, 64, 67, 0.3), 0px 1px 3px 1px rgba(60, 64, 67, 0.15);\n",
              "      fill: #174EA6;\n",
              "    }\n",
              "\n",
              "    [theme=dark] .colab-df-convert {\n",
              "      background-color: #3B4455;\n",
              "      fill: #D2E3FC;\n",
              "    }\n",
              "\n",
              "    [theme=dark] .colab-df-convert:hover {\n",
              "      background-color: #434B5C;\n",
              "      box-shadow: 0px 1px 3px 1px rgba(0, 0, 0, 0.15);\n",
              "      filter: drop-shadow(0px 1px 2px rgba(0, 0, 0, 0.3));\n",
              "      fill: #FFFFFF;\n",
              "    }\n",
              "  </style>\n",
              "\n",
              "      <script>\n",
              "        const buttonEl =\n",
              "          document.querySelector('#df-a761b497-bfc0-49e5-a8dd-b0a68c32dfbe button.colab-df-convert');\n",
              "        buttonEl.style.display =\n",
              "          google.colab.kernel.accessAllowed ? 'block' : 'none';\n",
              "\n",
              "        async function convertToInteractive(key) {\n",
              "          const element = document.querySelector('#df-a761b497-bfc0-49e5-a8dd-b0a68c32dfbe');\n",
              "          const dataTable =\n",
              "            await google.colab.kernel.invokeFunction('convertToInteractive',\n",
              "                                                     [key], {});\n",
              "          if (!dataTable) return;\n",
              "\n",
              "          const docLinkHtml = 'Like what you see? Visit the ' +\n",
              "            '<a target=\"_blank\" href=https://colab.research.google.com/notebooks/data_table.ipynb>data table notebook</a>'\n",
              "            + ' to learn more about interactive tables.';\n",
              "          element.innerHTML = '';\n",
              "          dataTable['output_type'] = 'display_data';\n",
              "          await google.colab.output.renderOutput(dataTable, element);\n",
              "          const docLink = document.createElement('div');\n",
              "          docLink.innerHTML = docLinkHtml;\n",
              "          element.appendChild(docLink);\n",
              "        }\n",
              "      </script>\n",
              "    </div>\n",
              "  </div>\n",
              "  "
            ]
          },
          "metadata": {},
          "execution_count": 46
        }
      ]
    },
    {
      "cell_type": "markdown",
      "source": [
        "По сводной таблице видим, что одна система `jcb` обеспечивает почти 50% всех платежей. В нашем случае в первую очередь необходимо подключить `jcb`, по остальным платежным системам нужно посмотреть, сколько в теории новых клиентов может принести подключение новой системы и сравнивать со стоимостью подключения."
      ],
      "metadata": {
        "id": "VFy7h-cirb_a"
      }
    },
    {
      "cell_type": "code",
      "source": [
        "#построим сводную таблицу по валютам платежей пользователей\n",
        "users_currency = users.pivot_table(\n",
        "    index='bank_currency', \n",
        "    values=['user_id'], \n",
        "    aggfunc=['nunique']\n",
        ").droplevel(0,axis=1).reset_index().rename(columns={\n",
        "        'bank_currency':'Валюта', \n",
        "        'user_id':'Пользователей'\n",
        "}).sort_values(by='Пользователей', ascending=False)"
      ],
      "metadata": {
        "id": "HXI-h9zHrCp8"
      },
      "execution_count": 47,
      "outputs": []
    },
    {
      "cell_type": "code",
      "source": [
        "users_currency.head(10)"
      ],
      "metadata": {
        "colab": {
          "base_uri": "https://localhost:8080/",
          "height": 359
        },
        "id": "MpIe_o6CrCmi",
        "outputId": "48292216-11fd-4d07-bca1-7d1ade44596c"
      },
      "execution_count": 48,
      "outputs": [
        {
          "output_type": "execute_result",
          "data": {
            "text/plain": [
              "           Валюта  Пользователей\n",
              "24  Yuan Renminbi             18\n",
              "22         Rupiah             14\n",
              "6            Euro             11\n",
              "16           Peso             10\n",
              "4          Dollar              8\n",
              "11         Koruna              5\n",
              "23            Yen              4\n",
              "20          Ruble              3\n",
              "19        Ringgit              3\n",
              "12          Krona              3"
            ],
            "text/html": [
              "\n",
              "  <div id=\"df-d0c5315d-1a27-4743-97fe-a84afc6e5b57\">\n",
              "    <div class=\"colab-df-container\">\n",
              "      <div>\n",
              "<style scoped>\n",
              "    .dataframe tbody tr th:only-of-type {\n",
              "        vertical-align: middle;\n",
              "    }\n",
              "\n",
              "    .dataframe tbody tr th {\n",
              "        vertical-align: top;\n",
              "    }\n",
              "\n",
              "    .dataframe thead th {\n",
              "        text-align: right;\n",
              "    }\n",
              "</style>\n",
              "<table border=\"1\" class=\"dataframe\">\n",
              "  <thead>\n",
              "    <tr style=\"text-align: right;\">\n",
              "      <th></th>\n",
              "      <th>Валюта</th>\n",
              "      <th>Пользователей</th>\n",
              "    </tr>\n",
              "  </thead>\n",
              "  <tbody>\n",
              "    <tr>\n",
              "      <th>24</th>\n",
              "      <td>Yuan Renminbi</td>\n",
              "      <td>18</td>\n",
              "    </tr>\n",
              "    <tr>\n",
              "      <th>22</th>\n",
              "      <td>Rupiah</td>\n",
              "      <td>14</td>\n",
              "    </tr>\n",
              "    <tr>\n",
              "      <th>6</th>\n",
              "      <td>Euro</td>\n",
              "      <td>11</td>\n",
              "    </tr>\n",
              "    <tr>\n",
              "      <th>16</th>\n",
              "      <td>Peso</td>\n",
              "      <td>10</td>\n",
              "    </tr>\n",
              "    <tr>\n",
              "      <th>4</th>\n",
              "      <td>Dollar</td>\n",
              "      <td>8</td>\n",
              "    </tr>\n",
              "    <tr>\n",
              "      <th>11</th>\n",
              "      <td>Koruna</td>\n",
              "      <td>5</td>\n",
              "    </tr>\n",
              "    <tr>\n",
              "      <th>23</th>\n",
              "      <td>Yen</td>\n",
              "      <td>4</td>\n",
              "    </tr>\n",
              "    <tr>\n",
              "      <th>20</th>\n",
              "      <td>Ruble</td>\n",
              "      <td>3</td>\n",
              "    </tr>\n",
              "    <tr>\n",
              "      <th>19</th>\n",
              "      <td>Ringgit</td>\n",
              "      <td>3</td>\n",
              "    </tr>\n",
              "    <tr>\n",
              "      <th>12</th>\n",
              "      <td>Krona</td>\n",
              "      <td>3</td>\n",
              "    </tr>\n",
              "  </tbody>\n",
              "</table>\n",
              "</div>\n",
              "      <button class=\"colab-df-convert\" onclick=\"convertToInteractive('df-d0c5315d-1a27-4743-97fe-a84afc6e5b57')\"\n",
              "              title=\"Convert this dataframe to an interactive table.\"\n",
              "              style=\"display:none;\">\n",
              "        \n",
              "  <svg xmlns=\"http://www.w3.org/2000/svg\" height=\"24px\"viewBox=\"0 0 24 24\"\n",
              "       width=\"24px\">\n",
              "    <path d=\"M0 0h24v24H0V0z\" fill=\"none\"/>\n",
              "    <path d=\"M18.56 5.44l.94 2.06.94-2.06 2.06-.94-2.06-.94-.94-2.06-.94 2.06-2.06.94zm-11 1L8.5 8.5l.94-2.06 2.06-.94-2.06-.94L8.5 2.5l-.94 2.06-2.06.94zm10 10l.94 2.06.94-2.06 2.06-.94-2.06-.94-.94-2.06-.94 2.06-2.06.94z\"/><path d=\"M17.41 7.96l-1.37-1.37c-.4-.4-.92-.59-1.43-.59-.52 0-1.04.2-1.43.59L10.3 9.45l-7.72 7.72c-.78.78-.78 2.05 0 2.83L4 21.41c.39.39.9.59 1.41.59.51 0 1.02-.2 1.41-.59l7.78-7.78 2.81-2.81c.8-.78.8-2.07 0-2.86zM5.41 20L4 18.59l7.72-7.72 1.47 1.35L5.41 20z\"/>\n",
              "  </svg>\n",
              "      </button>\n",
              "      \n",
              "  <style>\n",
              "    .colab-df-container {\n",
              "      display:flex;\n",
              "      flex-wrap:wrap;\n",
              "      gap: 12px;\n",
              "    }\n",
              "\n",
              "    .colab-df-convert {\n",
              "      background-color: #E8F0FE;\n",
              "      border: none;\n",
              "      border-radius: 50%;\n",
              "      cursor: pointer;\n",
              "      display: none;\n",
              "      fill: #1967D2;\n",
              "      height: 32px;\n",
              "      padding: 0 0 0 0;\n",
              "      width: 32px;\n",
              "    }\n",
              "\n",
              "    .colab-df-convert:hover {\n",
              "      background-color: #E2EBFA;\n",
              "      box-shadow: 0px 1px 2px rgba(60, 64, 67, 0.3), 0px 1px 3px 1px rgba(60, 64, 67, 0.15);\n",
              "      fill: #174EA6;\n",
              "    }\n",
              "\n",
              "    [theme=dark] .colab-df-convert {\n",
              "      background-color: #3B4455;\n",
              "      fill: #D2E3FC;\n",
              "    }\n",
              "\n",
              "    [theme=dark] .colab-df-convert:hover {\n",
              "      background-color: #434B5C;\n",
              "      box-shadow: 0px 1px 3px 1px rgba(0, 0, 0, 0.15);\n",
              "      filter: drop-shadow(0px 1px 2px rgba(0, 0, 0, 0.3));\n",
              "      fill: #FFFFFF;\n",
              "    }\n",
              "  </style>\n",
              "\n",
              "      <script>\n",
              "        const buttonEl =\n",
              "          document.querySelector('#df-d0c5315d-1a27-4743-97fe-a84afc6e5b57 button.colab-df-convert');\n",
              "        buttonEl.style.display =\n",
              "          google.colab.kernel.accessAllowed ? 'block' : 'none';\n",
              "\n",
              "        async function convertToInteractive(key) {\n",
              "          const element = document.querySelector('#df-d0c5315d-1a27-4743-97fe-a84afc6e5b57');\n",
              "          const dataTable =\n",
              "            await google.colab.kernel.invokeFunction('convertToInteractive',\n",
              "                                                     [key], {});\n",
              "          if (!dataTable) return;\n",
              "\n",
              "          const docLinkHtml = 'Like what you see? Visit the ' +\n",
              "            '<a target=\"_blank\" href=https://colab.research.google.com/notebooks/data_table.ipynb>data table notebook</a>'\n",
              "            + ' to learn more about interactive tables.';\n",
              "          element.innerHTML = '';\n",
              "          dataTable['output_type'] = 'display_data';\n",
              "          await google.colab.output.renderOutput(dataTable, element);\n",
              "          const docLink = document.createElement('div');\n",
              "          docLink.innerHTML = docLinkHtml;\n",
              "          element.appendChild(docLink);\n",
              "        }\n",
              "      </script>\n",
              "    </div>\n",
              "  </div>\n",
              "  "
            ]
          },
          "metadata": {},
          "execution_count": 48
        }
      ]
    },
    {
      "cell_type": "markdown",
      "source": [
        "Чаще всего пользователи платят в `Yuan Renminbi`, `Rupiah`, `Euro`.\n",
        "\n",
        "Также в данных представлены даты рождения пользователей - составим диаграмму по месяцам дней рождений пользователей (это позволит нам прогнозровать объем покупок на нашем маркетплейсе)."
      ],
      "metadata": {
        "id": "dcLhUDMSsCjW"
      }
    },
    {
      "cell_type": "code",
      "source": [
        "#выделим из дат месяцы рождения пользователей\n",
        "users['birth_month'] = users['birth_date'].dt.month"
      ],
      "metadata": {
        "id": "RKZkhY48tnX0"
      },
      "execution_count": 49,
      "outputs": []
    },
    {
      "cell_type": "code",
      "source": [
        "#построим сводную таблицу \n",
        "birth_month = users.groupby('birth_month').agg({\n",
        "    'user_id': 'nunique'}).reset_index().rename(columns={\n",
        "        'birth_month':'Месяц рождения', \n",
        "        'user_id':'Пользователей'\n",
        "})"
      ],
      "metadata": {
        "id": "ekTJLG_5uJ2l"
      },
      "execution_count": 50,
      "outputs": []
    },
    {
      "cell_type": "code",
      "source": [
        "#построим столбчатую диаграмму\n",
        "sns.barplot(data=birth_month, x=\"Месяц рождения\", y=\"Пользователей\")\n",
        "plt.title('Количество дней рождений пользователей');"
      ],
      "metadata": {
        "colab": {
          "base_uri": "https://localhost:8080/",
          "height": 295
        },
        "id": "Jam1V38GvEJE",
        "outputId": "3968e8ea-d0fa-4764-c791-7e3b8557880d"
      },
      "execution_count": 66,
      "outputs": [
        {
          "output_type": "display_data",
          "data": {
            "text/plain": [
              "<Figure size 432x288 with 1 Axes>"
            ],
            "image/png": "[encoded data removed]"
          },
          "metadata": {
            "needs_background": "light"
          }
        }
      ]
    },
    {
      "cell_type": "markdown",
      "source": [
        "Чаще всего пользователи празднуют свой день рождения в июле и августе, январе и феврале. Меньше всего дней рождений приходится на март, апрель и ноябрь. \n",
        "\n",
        "Это позволит нам отразить в бизнес-стратегии потенциальный рост спроса в указанные месяцы."
      ],
      "metadata": {
        "id": "3kicEtXJvZqX"
      }
    },
    {
      "cell_type": "markdown",
      "source": [
        "####Анализ постов пользователей"
      ],
      "metadata": {
        "id": "XnShfIOrsrYi"
      }
    },
    {
      "cell_type": "code",
      "source": [
        "#еще раз ознакомимся со структурой данных\n",
        "posts.head()"
      ],
      "metadata": {
        "colab": {
          "base_uri": "https://localhost:8080/",
          "height": 204
        },
        "id": "vImEOPnSrCjQ",
        "outputId": "1a7aad08-c76c-4459-e26f-fae3e035a5c7"
      },
      "execution_count": 52,
      "outputs": [
        {
          "output_type": "execute_result",
          "data": {
            "text/plain": [
              "   post_id                                              title  \\\n",
              "0        1                   His mother had always taught him   \n",
              "1        2           He was an expert but not in a discipline   \n",
              "2        3  Dave watched as the forest burned up on the hill.   \n",
              "3        4                     All he wanted was a candy bar.   \n",
              "4        5             Hopes and dreams were dashed that day.   \n",
              "\n",
              "                                                body  user_id  \\\n",
              "0  His mother had always taught him not to ever t...        9   \n",
              "1  He was an expert but not in a discipline that ...       13   \n",
              "2  Dave watched as the forest burned up on the hi...       32   \n",
              "3  All he wanted was a candy bar. It didn't seem ...       12   \n",
              "4  Hopes and dreams were dashed that day. It shou...       41   \n",
              "\n",
              "                           tags  reactions  \n",
              "0    [history, american, crime]          2  \n",
              "1    [french, fiction, english]          2  \n",
              "2    [magical, history, french]          5  \n",
              "3  [mystery, english, american]          1  \n",
              "4        [crime, mystery, love]          2  "
            ],
            "text/html": [
              "\n",
              "  <div id=\"df-44f72065-52c7-41a6-a045-8471c97f60b1\">\n",
              "    <div class=\"colab-df-container\">\n",
              "      <div>\n",
              "<style scoped>\n",
              "    .dataframe tbody tr th:only-of-type {\n",
              "        vertical-align: middle;\n",
              "    }\n",
              "\n",
              "    .dataframe tbody tr th {\n",
              "        vertical-align: top;\n",
              "    }\n",
              "\n",
              "    .dataframe thead th {\n",
              "        text-align: right;\n",
              "    }\n",
              "</style>\n",
              "<table border=\"1\" class=\"dataframe\">\n",
              "  <thead>\n",
              "    <tr style=\"text-align: right;\">\n",
              "      <th></th>\n",
              "      <th>post_id</th>\n",
              "      <th>title</th>\n",
              "      <th>body</th>\n",
              "      <th>user_id</th>\n",
              "      <th>tags</th>\n",
              "      <th>reactions</th>\n",
              "    </tr>\n",
              "  </thead>\n",
              "  <tbody>\n",
              "    <tr>\n",
              "      <th>0</th>\n",
              "      <td>1</td>\n",
              "      <td>His mother had always taught him</td>\n",
              "      <td>His mother had always taught him not to ever t...</td>\n",
              "      <td>9</td>\n",
              "      <td>[history, american, crime]</td>\n",
              "      <td>2</td>\n",
              "    </tr>\n",
              "    <tr>\n",
              "      <th>1</th>\n",
              "      <td>2</td>\n",
              "      <td>He was an expert but not in a discipline</td>\n",
              "      <td>He was an expert but not in a discipline that ...</td>\n",
              "      <td>13</td>\n",
              "      <td>[french, fiction, english]</td>\n",
              "      <td>2</td>\n",
              "    </tr>\n",
              "    <tr>\n",
              "      <th>2</th>\n",
              "      <td>3</td>\n",
              "      <td>Dave watched as the forest burned up on the hill.</td>\n",
              "      <td>Dave watched as the forest burned up on the hi...</td>\n",
              "      <td>32</td>\n",
              "      <td>[magical, history, french]</td>\n",
              "      <td>5</td>\n",
              "    </tr>\n",
              "    <tr>\n",
              "      <th>3</th>\n",
              "      <td>4</td>\n",
              "      <td>All he wanted was a candy bar.</td>\n",
              "      <td>All he wanted was a candy bar. It didn't seem ...</td>\n",
              "      <td>12</td>\n",
              "      <td>[mystery, english, american]</td>\n",
              "      <td>1</td>\n",
              "    </tr>\n",
              "    <tr>\n",
              "      <th>4</th>\n",
              "      <td>5</td>\n",
              "      <td>Hopes and dreams were dashed that day.</td>\n",
              "      <td>Hopes and dreams were dashed that day. It shou...</td>\n",
              "      <td>41</td>\n",
              "      <td>[crime, mystery, love]</td>\n",
              "      <td>2</td>\n",
              "    </tr>\n",
              "  </tbody>\n",
              "</table>\n",
              "</div>\n",
              "      <button class=\"colab-df-convert\" onclick=\"convertToInteractive('df-44f72065-52c7-41a6-a045-8471c97f60b1')\"\n",
              "              title=\"Convert this dataframe to an interactive table.\"\n",
              "              style=\"display:none;\">\n",
              "        \n",
              "  <svg xmlns=\"http://www.w3.org/2000/svg\" height=\"24px\"viewBox=\"0 0 24 24\"\n",
              "       width=\"24px\">\n",
              "    <path d=\"M0 0h24v24H0V0z\" fill=\"none\"/>\n",
              "    <path d=\"M18.56 5.44l.94 2.06.94-2.06 2.06-.94-2.06-.94-.94-2.06-.94 2.06-2.06.94zm-11 1L8.5 8.5l.94-2.06 2.06-.94-2.06-.94L8.5 2.5l-.94 2.06-2.06.94zm10 10l.94 2.06.94-2.06 2.06-.94-2.06-.94-.94-2.06-.94 2.06-2.06.94z\"/><path d=\"M17.41 7.96l-1.37-1.37c-.4-.4-.92-.59-1.43-.59-.52 0-1.04.2-1.43.59L10.3 9.45l-7.72 7.72c-.78.78-.78 2.05 0 2.83L4 21.41c.39.39.9.59 1.41.59.51 0 1.02-.2 1.41-.59l7.78-7.78 2.81-2.81c.8-.78.8-2.07 0-2.86zM5.41 20L4 18.59l7.72-7.72 1.47 1.35L5.41 20z\"/>\n",
              "  </svg>\n",
              "      </button>\n",
              "      \n",
              "  <style>\n",
              "    .colab-df-container {\n",
              "      display:flex;\n",
              "      flex-wrap:wrap;\n",
              "      gap: 12px;\n",
              "    }\n",
              "\n",
              "    .colab-df-convert {\n",
              "      background-color: #E8F0FE;\n",
              "      border: none;\n",
              "      border-radius: 50%;\n",
              "      cursor: pointer;\n",
              "      display: none;\n",
              "      fill: #1967D2;\n",
              "      height: 32px;\n",
              "      padding: 0 0 0 0;\n",
              "      width: 32px;\n",
              "    }\n",
              "\n",
              "    .colab-df-convert:hover {\n",
              "      background-color: #E2EBFA;\n",
              "      box-shadow: 0px 1px 2px rgba(60, 64, 67, 0.3), 0px 1px 3px 1px rgba(60, 64, 67, 0.15);\n",
              "      fill: #174EA6;\n",
              "    }\n",
              "\n",
              "    [theme=dark] .colab-df-convert {\n",
              "      background-color: #3B4455;\n",
              "      fill: #D2E3FC;\n",
              "    }\n",
              "\n",
              "    [theme=dark] .colab-df-convert:hover {\n",
              "      background-color: #434B5C;\n",
              "      box-shadow: 0px 1px 3px 1px rgba(0, 0, 0, 0.15);\n",
              "      filter: drop-shadow(0px 1px 2px rgba(0, 0, 0, 0.3));\n",
              "      fill: #FFFFFF;\n",
              "    }\n",
              "  </style>\n",
              "\n",
              "      <script>\n",
              "        const buttonEl =\n",
              "          document.querySelector('#df-44f72065-52c7-41a6-a045-8471c97f60b1 button.colab-df-convert');\n",
              "        buttonEl.style.display =\n",
              "          google.colab.kernel.accessAllowed ? 'block' : 'none';\n",
              "\n",
              "        async function convertToInteractive(key) {\n",
              "          const element = document.querySelector('#df-44f72065-52c7-41a6-a045-8471c97f60b1');\n",
              "          const dataTable =\n",
              "            await google.colab.kernel.invokeFunction('convertToInteractive',\n",
              "                                                     [key], {});\n",
              "          if (!dataTable) return;\n",
              "\n",
              "          const docLinkHtml = 'Like what you see? Visit the ' +\n",
              "            '<a target=\"_blank\" href=https://colab.research.google.com/notebooks/data_table.ipynb>data table notebook</a>'\n",
              "            + ' to learn more about interactive tables.';\n",
              "          element.innerHTML = '';\n",
              "          dataTable['output_type'] = 'display_data';\n",
              "          await google.colab.output.renderOutput(dataTable, element);\n",
              "          const docLink = document.createElement('div');\n",
              "          docLink.innerHTML = docLinkHtml;\n",
              "          element.appendChild(docLink);\n",
              "        }\n",
              "      </script>\n",
              "    </div>\n",
              "  </div>\n",
              "  "
            ]
          },
          "metadata": {},
          "execution_count": 52
        }
      ]
    },
    {
      "cell_type": "markdown",
      "source": [
        "Для более детального анализа постов добавим в таблицу данные пользователей (в частности, наиболее информативны будут пол и возраст авторов) - используем метод merge по общему ключу для обеих таблиц - `user_id`."
      ],
      "metadata": {
        "id": "ZRN-UrxdwOLR"
      }
    },
    {
      "cell_type": "code",
      "source": [
        "#воспользуемся методом merge \n",
        "df = posts.merge(users, on='user_id', how='left')"
      ],
      "metadata": {
        "id": "On-yN-DwrCgD"
      },
      "execution_count": 53,
      "outputs": []
    },
    {
      "cell_type": "code",
      "source": [
        "df.head(1)"
      ],
      "metadata": {
        "colab": {
          "base_uri": "https://localhost:8080/",
          "height": 309
        },
        "id": "VmkiMzJCx4yQ",
        "outputId": "5656c91a-7f0b-41ec-8498-0e0cf97f3ef3"
      },
      "execution_count": 54,
      "outputs": [
        {
          "output_type": "execute_result",
          "data": {
            "text/plain": [
              "   post_id                             title  \\\n",
              "0        1  His mother had always taught him   \n",
              "\n",
              "                                                body  user_id  \\\n",
              "0  His mother had always taught him not to ever t...        9   \n",
              "\n",
              "                         tags  reactions first_name last_name maiden_name  \\\n",
              "0  [history, american, crime]          2  Demetrius   Corkery     Gleason   \n",
              "\n",
              "   age  ... company_city company_coordinates_lat company_coordinates_lng  \\\n",
              "0   22  ...       Arvada               39.826708              -105.13668   \n",
              "\n",
              "  company_postal_code company_state company_department    company_name  \\\n",
              "0               80004            CO    Human Resources  Gorczany Group   \n",
              "\n",
              "                   company_title  age_category  birth_month  \n",
              "0  Community Outreach Specialist         20-29            3  \n",
              "\n",
              "[1 rows x 52 columns]"
            ],
            "text/html": [
              "\n",
              "  <div id=\"df-e9ab83cb-f6db-452a-93a0-089bd7d4a23b\">\n",
              "    <div class=\"colab-df-container\">\n",
              "      <div>\n",
              "<style scoped>\n",
              "    .dataframe tbody tr th:only-of-type {\n",
              "        vertical-align: middle;\n",
              "    }\n",
              "\n",
              "    .dataframe tbody tr th {\n",
              "        vertical-align: top;\n",
              "    }\n",
              "\n",
              "    .dataframe thead th {\n",
              "        text-align: right;\n",
              "    }\n",
              "</style>\n",
              "<table border=\"1\" class=\"dataframe\">\n",
              "  <thead>\n",
              "    <tr style=\"text-align: right;\">\n",
              "      <th></th>\n",
              "      <th>post_id</th>\n",
              "      <th>title</th>\n",
              "      <th>body</th>\n",
              "      <th>user_id</th>\n",
              "      <th>tags</th>\n",
              "      <th>reactions</th>\n",
              "      <th>first_name</th>\n",
              "      <th>last_name</th>\n",
              "      <th>maiden_name</th>\n",
              "      <th>age</th>\n",
              "      <th>...</th>\n",
              "      <th>company_city</th>\n",
              "      <th>company_coordinates_lat</th>\n",
              "      <th>company_coordinates_lng</th>\n",
              "      <th>company_postal_code</th>\n",
              "      <th>company_state</th>\n",
              "      <th>company_department</th>\n",
              "      <th>company_name</th>\n",
              "      <th>company_title</th>\n",
              "      <th>age_category</th>\n",
              "      <th>birth_month</th>\n",
              "    </tr>\n",
              "  </thead>\n",
              "  <tbody>\n",
              "    <tr>\n",
              "      <th>0</th>\n",
              "      <td>1</td>\n",
              "      <td>His mother had always taught him</td>\n",
              "      <td>His mother had always taught him not to ever t...</td>\n",
              "      <td>9</td>\n",
              "      <td>[history, american, crime]</td>\n",
              "      <td>2</td>\n",
              "      <td>Demetrius</td>\n",
              "      <td>Corkery</td>\n",
              "      <td>Gleason</td>\n",
              "      <td>22</td>\n",
              "      <td>...</td>\n",
              "      <td>Arvada</td>\n",
              "      <td>39.826708</td>\n",
              "      <td>-105.13668</td>\n",
              "      <td>80004</td>\n",
              "      <td>CO</td>\n",
              "      <td>Human Resources</td>\n",
              "      <td>Gorczany Group</td>\n",
              "      <td>Community Outreach Specialist</td>\n",
              "      <td>20-29</td>\n",
              "      <td>3</td>\n",
              "    </tr>\n",
              "  </tbody>\n",
              "</table>\n",
              "<p>1 rows × 52 columns</p>\n",
              "</div>\n",
              "      <button class=\"colab-df-convert\" onclick=\"convertToInteractive('df-e9ab83cb-f6db-452a-93a0-089bd7d4a23b')\"\n",
              "              title=\"Convert this dataframe to an interactive table.\"\n",
              "              style=\"display:none;\">\n",
              "        \n",
              "  <svg xmlns=\"http://www.w3.org/2000/svg\" height=\"24px\"viewBox=\"0 0 24 24\"\n",
              "       width=\"24px\">\n",
              "    <path d=\"M0 0h24v24H0V0z\" fill=\"none\"/>\n",
              "    <path d=\"M18.56 5.44l.94 2.06.94-2.06 2.06-.94-2.06-.94-.94-2.06-.94 2.06-2.06.94zm-11 1L8.5 8.5l.94-2.06 2.06-.94-2.06-.94L8.5 2.5l-.94 2.06-2.06.94zm10 10l.94 2.06.94-2.06 2.06-.94-2.06-.94-.94-2.06-.94 2.06-2.06.94z\"/><path d=\"M17.41 7.96l-1.37-1.37c-.4-.4-.92-.59-1.43-.59-.52 0-1.04.2-1.43.59L10.3 9.45l-7.72 7.72c-.78.78-.78 2.05 0 2.83L4 21.41c.39.39.9.59 1.41.59.51 0 1.02-.2 1.41-.59l7.78-7.78 2.81-2.81c.8-.78.8-2.07 0-2.86zM5.41 20L4 18.59l7.72-7.72 1.47 1.35L5.41 20z\"/>\n",
              "  </svg>\n",
              "      </button>\n",
              "      \n",
              "  <style>\n",
              "    .colab-df-container {\n",
              "      display:flex;\n",
              "      flex-wrap:wrap;\n",
              "      gap: 12px;\n",
              "    }\n",
              "\n",
              "    .colab-df-convert {\n",
              "      background-color: #E8F0FE;\n",
              "      border: none;\n",
              "      border-radius: 50%;\n",
              "      cursor: pointer;\n",
              "      display: none;\n",
              "      fill: #1967D2;\n",
              "      height: 32px;\n",
              "      padding: 0 0 0 0;\n",
              "      width: 32px;\n",
              "    }\n",
              "\n",
              "    .colab-df-convert:hover {\n",
              "      background-color: #E2EBFA;\n",
              "      box-shadow: 0px 1px 2px rgba(60, 64, 67, 0.3), 0px 1px 3px 1px rgba(60, 64, 67, 0.15);\n",
              "      fill: #174EA6;\n",
              "    }\n",
              "\n",
              "    [theme=dark] .colab-df-convert {\n",
              "      background-color: #3B4455;\n",
              "      fill: #D2E3FC;\n",
              "    }\n",
              "\n",
              "    [theme=dark] .colab-df-convert:hover {\n",
              "      background-color: #434B5C;\n",
              "      box-shadow: 0px 1px 3px 1px rgba(0, 0, 0, 0.15);\n",
              "      filter: drop-shadow(0px 1px 2px rgba(0, 0, 0, 0.3));\n",
              "      fill: #FFFFFF;\n",
              "    }\n",
              "  </style>\n",
              "\n",
              "      <script>\n",
              "        const buttonEl =\n",
              "          document.querySelector('#df-e9ab83cb-f6db-452a-93a0-089bd7d4a23b button.colab-df-convert');\n",
              "        buttonEl.style.display =\n",
              "          google.colab.kernel.accessAllowed ? 'block' : 'none';\n",
              "\n",
              "        async function convertToInteractive(key) {\n",
              "          const element = document.querySelector('#df-e9ab83cb-f6db-452a-93a0-089bd7d4a23b');\n",
              "          const dataTable =\n",
              "            await google.colab.kernel.invokeFunction('convertToInteractive',\n",
              "                                                     [key], {});\n",
              "          if (!dataTable) return;\n",
              "\n",
              "          const docLinkHtml = 'Like what you see? Visit the ' +\n",
              "            '<a target=\"_blank\" href=https://colab.research.google.com/notebooks/data_table.ipynb>data table notebook</a>'\n",
              "            + ' to learn more about interactive tables.';\n",
              "          element.innerHTML = '';\n",
              "          dataTable['output_type'] = 'display_data';\n",
              "          await google.colab.output.renderOutput(dataTable, element);\n",
              "          const docLink = document.createElement('div');\n",
              "          docLink.innerHTML = docLinkHtml;\n",
              "          element.appendChild(docLink);\n",
              "        }\n",
              "      </script>\n",
              "    </div>\n",
              "  </div>\n",
              "  "
            ]
          },
          "metadata": {},
          "execution_count": 54
        }
      ]
    },
    {
      "cell_type": "markdown",
      "source": [
        "В первую очередь нас интересует как часто встречаются те или иные теги. В нашем датафрейме tags представлена вложеным списком. \n",
        "\n",
        "Пройдемся циклом по колонке tags, с помощью Numpy распакуем список и сделаем сводную таблицу частотности каждого из тегов."
      ],
      "metadata": {
        "id": "6Du7vsx26wnk"
      }
    },
    {
      "cell_type": "code",
      "source": [
        "#соберем все вложенные списки колонки tags в отедльный список\n",
        "tag = []\n",
        "\n",
        "for row in df['tags']:\n",
        "    tag += row"
      ],
      "metadata": {
        "id": "nqs6M-tx7R83"
      },
      "execution_count": 55,
      "outputs": []
    },
    {
      "cell_type": "code",
      "source": [
        "#распакуем полученный список в датафрейм\n",
        "tags = pd.DataFrame(np.array(tag).reshape(-1, 1)).add_prefix(\"col\")"
      ],
      "metadata": {
        "id": "bzB3aCJ15bKO"
      },
      "execution_count": 56,
      "outputs": []
    },
    {
      "cell_type": "code",
      "source": [
        "#построим сводную таблицу\n",
        "#в данном случае нам придется дважды обратиться к функции rename, т.к. мы работаем с 1 столбцом и названия колонок дублируются\n",
        "tags.groupby('col0').agg({\n",
        "    'col0': 'count'}).rename(\n",
        "        columns={\n",
        "        'col0':'col1'\n",
        "}).reset_index().rename(\n",
        "        columns={\n",
        "        'col0':'Тэг',\n",
        "        'col1':'Кол-во постов'\n",
        "}).sort_values(by='Кол-во постов', ascending=False)"
      ],
      "metadata": {
        "colab": {
          "base_uri": "https://localhost:8080/",
          "height": 359
        },
        "id": "hg6W5qvE6ROI",
        "outputId": "9554e32d-f017-4de9-ffae-80cbb13bb5b8"
      },
      "execution_count": 57,
      "outputs": [
        {
          "output_type": "execute_result",
          "data": {
            "text/plain": [
              "        Тэг  Кол-во постов\n",
              "3   english             48\n",
              "0  american             47\n",
              "1   classic             47\n",
              "7      love             44\n",
              "2     crime             43\n",
              "6   history             41\n",
              "4   fiction             38\n",
              "5    french             37\n",
              "9   mystery             34\n",
              "8   magical             33"
            ],
            "text/html": [
              "\n",
              "  <div id=\"df-96400fe1-8817-45b6-882c-878598e56ada\">\n",
              "    <div class=\"colab-df-container\">\n",
              "      <div>\n",
              "<style scoped>\n",
              "    .dataframe tbody tr th:only-of-type {\n",
              "        vertical-align: middle;\n",
              "    }\n",
              "\n",
              "    .dataframe tbody tr th {\n",
              "        vertical-align: top;\n",
              "    }\n",
              "\n",
              "    .dataframe thead th {\n",
              "        text-align: right;\n",
              "    }\n",
              "</style>\n",
              "<table border=\"1\" class=\"dataframe\">\n",
              "  <thead>\n",
              "    <tr style=\"text-align: right;\">\n",
              "      <th></th>\n",
              "      <th>Тэг</th>\n",
              "      <th>Кол-во постов</th>\n",
              "    </tr>\n",
              "  </thead>\n",
              "  <tbody>\n",
              "    <tr>\n",
              "      <th>3</th>\n",
              "      <td>english</td>\n",
              "      <td>48</td>\n",
              "    </tr>\n",
              "    <tr>\n",
              "      <th>0</th>\n",
              "      <td>american</td>\n",
              "      <td>47</td>\n",
              "    </tr>\n",
              "    <tr>\n",
              "      <th>1</th>\n",
              "      <td>classic</td>\n",
              "      <td>47</td>\n",
              "    </tr>\n",
              "    <tr>\n",
              "      <th>7</th>\n",
              "      <td>love</td>\n",
              "      <td>44</td>\n",
              "    </tr>\n",
              "    <tr>\n",
              "      <th>2</th>\n",
              "      <td>crime</td>\n",
              "      <td>43</td>\n",
              "    </tr>\n",
              "    <tr>\n",
              "      <th>6</th>\n",
              "      <td>history</td>\n",
              "      <td>41</td>\n",
              "    </tr>\n",
              "    <tr>\n",
              "      <th>4</th>\n",
              "      <td>fiction</td>\n",
              "      <td>38</td>\n",
              "    </tr>\n",
              "    <tr>\n",
              "      <th>5</th>\n",
              "      <td>french</td>\n",
              "      <td>37</td>\n",
              "    </tr>\n",
              "    <tr>\n",
              "      <th>9</th>\n",
              "      <td>mystery</td>\n",
              "      <td>34</td>\n",
              "    </tr>\n",
              "    <tr>\n",
              "      <th>8</th>\n",
              "      <td>magical</td>\n",
              "      <td>33</td>\n",
              "    </tr>\n",
              "  </tbody>\n",
              "</table>\n",
              "</div>\n",
              "      <button class=\"colab-df-convert\" onclick=\"convertToInteractive('df-96400fe1-8817-45b6-882c-878598e56ada')\"\n",
              "              title=\"Convert this dataframe to an interactive table.\"\n",
              "              style=\"display:none;\">\n",
              "        \n",
              "  <svg xmlns=\"http://www.w3.org/2000/svg\" height=\"24px\"viewBox=\"0 0 24 24\"\n",
              "       width=\"24px\">\n",
              "    <path d=\"M0 0h24v24H0V0z\" fill=\"none\"/>\n",
              "    <path d=\"M18.56 5.44l.94 2.06.94-2.06 2.06-.94-2.06-.94-.94-2.06-.94 2.06-2.06.94zm-11 1L8.5 8.5l.94-2.06 2.06-.94-2.06-.94L8.5 2.5l-.94 2.06-2.06.94zm10 10l.94 2.06.94-2.06 2.06-.94-2.06-.94-.94-2.06-.94 2.06-2.06.94z\"/><path d=\"M17.41 7.96l-1.37-1.37c-.4-.4-.92-.59-1.43-.59-.52 0-1.04.2-1.43.59L10.3 9.45l-7.72 7.72c-.78.78-.78 2.05 0 2.83L4 21.41c.39.39.9.59 1.41.59.51 0 1.02-.2 1.41-.59l7.78-7.78 2.81-2.81c.8-.78.8-2.07 0-2.86zM5.41 20L4 18.59l7.72-7.72 1.47 1.35L5.41 20z\"/>\n",
              "  </svg>\n",
              "      </button>\n",
              "      \n",
              "  <style>\n",
              "    .colab-df-container {\n",
              "      display:flex;\n",
              "      flex-wrap:wrap;\n",
              "      gap: 12px;\n",
              "    }\n",
              "\n",
              "    .colab-df-convert {\n",
              "      background-color: #E8F0FE;\n",
              "      border: none;\n",
              "      border-radius: 50%;\n",
              "      cursor: pointer;\n",
              "      display: none;\n",
              "      fill: #1967D2;\n",
              "      height: 32px;\n",
              "      padding: 0 0 0 0;\n",
              "      width: 32px;\n",
              "    }\n",
              "\n",
              "    .colab-df-convert:hover {\n",
              "      background-color: #E2EBFA;\n",
              "      box-shadow: 0px 1px 2px rgba(60, 64, 67, 0.3), 0px 1px 3px 1px rgba(60, 64, 67, 0.15);\n",
              "      fill: #174EA6;\n",
              "    }\n",
              "\n",
              "    [theme=dark] .colab-df-convert {\n",
              "      background-color: #3B4455;\n",
              "      fill: #D2E3FC;\n",
              "    }\n",
              "\n",
              "    [theme=dark] .colab-df-convert:hover {\n",
              "      background-color: #434B5C;\n",
              "      box-shadow: 0px 1px 3px 1px rgba(0, 0, 0, 0.15);\n",
              "      filter: drop-shadow(0px 1px 2px rgba(0, 0, 0, 0.3));\n",
              "      fill: #FFFFFF;\n",
              "    }\n",
              "  </style>\n",
              "\n",
              "      <script>\n",
              "        const buttonEl =\n",
              "          document.querySelector('#df-96400fe1-8817-45b6-882c-878598e56ada button.colab-df-convert');\n",
              "        buttonEl.style.display =\n",
              "          google.colab.kernel.accessAllowed ? 'block' : 'none';\n",
              "\n",
              "        async function convertToInteractive(key) {\n",
              "          const element = document.querySelector('#df-96400fe1-8817-45b6-882c-878598e56ada');\n",
              "          const dataTable =\n",
              "            await google.colab.kernel.invokeFunction('convertToInteractive',\n",
              "                                                     [key], {});\n",
              "          if (!dataTable) return;\n",
              "\n",
              "          const docLinkHtml = 'Like what you see? Visit the ' +\n",
              "            '<a target=\"_blank\" href=https://colab.research.google.com/notebooks/data_table.ipynb>data table notebook</a>'\n",
              "            + ' to learn more about interactive tables.';\n",
              "          element.innerHTML = '';\n",
              "          dataTable['output_type'] = 'display_data';\n",
              "          await google.colab.output.renderOutput(dataTable, element);\n",
              "          const docLink = document.createElement('div');\n",
              "          docLink.innerHTML = docLinkHtml;\n",
              "          element.appendChild(docLink);\n",
              "        }\n",
              "      </script>\n",
              "    </div>\n",
              "  </div>\n",
              "  "
            ]
          },
          "metadata": {},
          "execution_count": 57
        }
      ]
    },
    {
      "cell_type": "markdown",
      "source": [
        "Чаще всего пользователи пишут посты на темы - `english, american, classic`. Посты на темы `mystery & magical` встречаются на 30% реже."
      ],
      "metadata": {
        "id": "hmiQm-H9BhS-"
      }
    },
    {
      "cell_type": "code",
      "source": [
        "#сделаем сводную таблицу, чтобы проанализировать половозрастное распределение авторов постов\n",
        "data = df.pivot_table(\n",
        "    index=['age_category', 'gender'], \n",
        "    values='user_id', \n",
        "    aggfunc=['count']).droplevel(0,axis=1).reset_index().rename(\n",
        "        columns={\n",
        "        'gender':'Пол', \n",
        "        'age_category':'Возрастная группа',\n",
        "        'user_id' : 'Пользователей'\n",
        "})"
      ],
      "metadata": {
        "id": "oQmwXnjQDMx5"
      },
      "execution_count": 58,
      "outputs": []
    },
    {
      "cell_type": "code",
      "source": [
        "#сделаем срез нашей сводной таблицы и построим графики в соответствии с полом автором\n",
        "woman = data.query('Пол == \"female\"')"
      ],
      "metadata": {
        "id": "MzOAx6XMHsoI"
      },
      "execution_count": 59,
      "outputs": []
    },
    {
      "cell_type": "code",
      "source": [
        "sns.barplot(data=woman, x=\"Возрастная группа\", y=\"Пользователей\")\n",
        "plt.title('Распределение женщин-авторов по возрастным группам');"
      ],
      "metadata": {
        "colab": {
          "base_uri": "https://localhost:8080/",
          "height": 295
        },
        "id": "UXm-Sp8OFSc-",
        "outputId": "d9c26a95-0a4e-4283-8a2a-9424e337973e"
      },
      "execution_count": 67,
      "outputs": [
        {
          "output_type": "display_data",
          "data": {
            "text/plain": [
              "<Figure size 432x288 with 1 Axes>"
            ],
            "image/png": "[encoded data removed]"
          },
          "metadata": {
            "needs_background": "light"
          }
        }
      ]
    },
    {
      "cell_type": "markdown",
      "source": [
        "Среди авторов чаще других встречаются женщины старше 40 лет - по графику можно предположить, что чем старше женщина, тем больше она любит писать посты."
      ],
      "metadata": {
        "id": "cSiGXAGoJe1Q"
      }
    },
    {
      "cell_type": "code",
      "source": [
        "#аналогично делаем срез по мужчинам\n",
        "man = data.query('Пол == \"male\"')"
      ],
      "metadata": {
        "id": "bQSsFsf1Ifpu"
      },
      "execution_count": 61,
      "outputs": []
    },
    {
      "cell_type": "code",
      "source": [
        "sns.barplot(data=man, x=\"Возрастная группа\", y=\"Пользователей\")\n",
        "plt.title('Распределение мужчин-авторов по возрастным группам');"
      ],
      "metadata": {
        "colab": {
          "base_uri": "https://localhost:8080/",
          "height": 295
        },
        "id": "oTOTgfkxImAg",
        "outputId": "95532958-30d9-470e-dccf-fe343520bd15"
      },
      "execution_count": 69,
      "outputs": [
        {
          "output_type": "display_data",
          "data": {
            "text/plain": [
              "<Figure size 432x288 with 1 Axes>"
            ],
            "image/png": "[encoded data removed]"
          },
          "metadata": {
            "needs_background": "light"
          }
        }
      ]
    },
    {
      "cell_type": "markdown",
      "source": [
        "Среди мужчин-авторов нет такой тенденции к росту постов от возраста, которая просматривается у женщин - наиболее пишущая группа авторов в категории `40-49` лет, при этом достаточно много авторов встречается и в категории `20-29`."
      ],
      "metadata": {
        "id": "GbKJUTDuBP_0"
      }
    },
    {
      "cell_type": "markdown",
      "source": [
        "##Выводы"
      ],
      "metadata": {
        "id": "S1xilZbwCJk6"
      }
    },
    {
      "cell_type": "markdown",
      "source": [
        "Для проведения анализа была получена база с данными пользователей сайта игрушечных данных `Dummy Products` (`https://dummyjson.com`), период формирования данных неизвестен. Данные включают в себя 2 датасета с информацией о пользователях (ФИО, контактная информация, основные адреса пользвателей и др.) и постах пользователей (содержание, теги, id авторов).\n",
        "\n",
        "Цели исследования заключались в определении портрета среднестатистического пользователя и факторов, которые необходимы для формирования стратегии запуска нового продукта -  возрастные категории товаров, географию доставки, параметры платежной системы для оплаты на маркетплейсе, а также анализе постов пользователей на платформе.\n",
        "\n",
        "В процессе работы над проектом была проведена предобработка данных (изменение типа и обьединение данных, поиск дублей). Также был проведен исследовательский анализ данных.\n",
        "\n",
        "**1.1. Общая характеристика портрета пользователей - пол и возраст**\n",
        "<br />\n",
        "Доли пользователей приложения распределены следующим образом:"
      ],
      "metadata": {
        "id": "YU_2XDbphXbm"
      }
    },
    {
      "cell_type": "markdown",
      "source": [
        "![Снимок экрана 2023-01-15 в 11.37.37.png](data:image/png;base64,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)"
      ],
      "metadata": {
        "id": "CHIQaw9BlaYc"
      }
    },
    {
      "cell_type": "markdown",
      "source": [
        "**1.2.1. Общая характеристика портрета пользователей - город проживания**\n",
        "<br />\n",
        "Доли пользователей по городам проживания:\t\n",
        "*   город `Nashville` - 10% пользователей;\n",
        "*   город `Glendale` - 8% пользователей;\n",
        "*   город `Anchorage` - 7% пользователей;\n",
        "*   город `Washington` - 7% пользователей;\n",
        "*   город `Manchester` - 7% пользователей;\n",
        "*   город `Louisville` - 6% пользователей;\n",
        "*   город `Fayetteville` - 6% пользователей;\n",
        "*   город `Savannah` - 4% пользователей;\n",
        "*   город `Montgomery` - 3% пользователей;\n",
        "*   город `Panama City` - 3% пользователей;\n",
        "\n",
        "На другие города приходится 39% пользователей.\n",
        "\n",
        "**1.2.2. Общая характеристика портрета пользователей - город работы**\n",
        "<br />\n",
        "Доли пользователей по городам проживания:\t\n",
        "*   город `Fayetteville` - 11% пользователей\n",
        "*   город `Glendale` - 10% пользователей;\n",
        "*   город `Nashville` - 9% пользователей;\n",
        "*   город `Washington` - 7% пользователей;\n",
        "*   город `Manchester` - 7% пользователей;\n",
        "*   город `Anchorage` - 6% пользователей;\n",
        "*   город `Pasadena` - 3% пользователей;\n",
        "*   город `Panama City` - 3% пользователей;\n",
        "*   город `Glen Burnie` - 3% пользователей;\n",
        "*   город `Grand Junctio` - 3% пользователей;\n",
        "\n",
        "На другие города приходится 41% пользователей.\n",
        "\n",
        "**1.2.3. Общая характеристика портрета пользователей - город работы**\n",
        "<br />\n",
        "Сопоставление географических координат городов проживания и работы:"
      ],
      "metadata": {
        "id": "TsRmeJdip3q1"
      }
    },
    {
      "cell_type": "markdown",
      "source": [
        "![Снимок экрана 2023-01-13 в 18.20.12.png](data:image/png;base64,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)"
      ],
      "metadata": {
        "id": "aD2t9UfuuIom"
      }
    },
    {
      "cell_type": "markdown",
      "source": [
        "\n",
        "**Общая характеристика портрета пользователей - выводы**\n",
        "<br />\n",
        "Основой аудитории платформы (более 90% всех пользователей) практически в равной степени являются мужчины и женщины в возрасте от 20 до 50 лет. \n",
        "\n",
        "Группа пользователей `40-49` является самой многочисленной (при условии, что разница с группой `20-29` и `30-39` составляет не более 10%). \n",
        "\n",
        "Анализируя географию проживания и работы пользователей можно сделать вывод о маятниковой миграции - пользователи проживают в одном городе, рабочее место расположено в другом городе. \n",
        "\n",
        "При сопоставлении координат городов проживания и работы по географическим координатам мы видим практически полное перекрестное совпадение этих городов - фактически мы имеем пул конкретных городов, между которыми пользователи перемещаются из дома на работу и наоборот. \n",
        "\n",
        "Данный факт в будущем позволит оптимизировать развитие представительств, логистики и маршрутов доставик. \n",
        "\n",
        "\n",
        "**2.1. Характеристика пользовательских платежей - платежные системы**\n",
        "<br />\n",
        "Доли держателей карт платежных систем:\n",
        "\n",
        "*   система `JCB` - 46% пользователей;\n",
        "*   система `Diners-Club-Enroute` - 9% пользователей;\n",
        "*   система `Maestro` - 9% пользователей;\n",
        "*   система `Mastercard` - 7% пользователей;\n",
        "*   система `Diners-Club-Carte-Blanche` - 5% пользователей;\n",
        "\n",
        "На другие платежные системы приходится 24% держателей среди пользователей. \n",
        "\n",
        "**2.2. Характеристика пользовательских платежей - платежные системы**\n",
        "<br />\n",
        "Распределение валют карт пользователей:\n",
        "*   система `Yuan Renminbi` - 18% пользователей;\n",
        "*   система `Rupiah` - 14% пользователей;\n",
        "*   система `Euro` - 11% пользователей;\n",
        "*   система `Peso` - 10% пользователей;\n",
        "*   система `Dollar` - 8% пользователей;\n",
        "\n",
        "На другие валюты приходится 39% карт пользователей. \n",
        "\n",
        "Указаные платежные системы (в первую очередь `JCB`) и валюты должны быть интегрированы в продукт и поддерживаться при проведении платежей в первую очередь (при условии развития в данном географическом районе).\n",
        "\n",
        "**3. Прогнозирование спроса - фактор дня рождения**\n",
        "<br />\n",
        "По известным данным дней рождений пользователей мы рассчитали, в какие месяцы года пользователи отмечают этот праздник, что потенциально может быть полезно отделу маркетинга для прогнозирования спроса:\n"
      ],
      "metadata": {
        "id": "2fkxr6CyuMeQ"
      }
    },
    {
      "cell_type": "markdown",
      "source": [
        "![Снимок экрана 2023-01-13 в 19.45.27.png](data:image/png;base64,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)"
      ],
      "metadata": {
        "id": "U9gDG5aBBgqu"
      }
    },
    {
      "cell_type": "markdown",
      "source": [
        "Чаще всего пользователи празднуют свой день рождения в июле и августе, январе и феврале. Меньше всего дней рождений приходится на март, апрель и ноябрь. \n",
        "\n",
        "**4. Тематические теги постов пользователей**\n",
        "<br />\n",
        "Анализируя датафрейм с постами пользователей можно выделить следующие наиболее популярные теги:\n",
        "*   тег `english` используют 11,7% пользователей;\n",
        "*   тег `american` - 11,4% пользователей;\n",
        "*   тег `classic` - 11,4% пользователей;\n",
        "*   тег `love` - 10,6% пользователей;\n",
        "*   тег `crime` - 10,4% пользователей;\n",
        "*   тег `history` используют 9,9% пользователей;\n",
        "*   тег `fiction` - 9,2% пользователей;\n",
        "*   тег `french` - 8,9% пользователей;\n",
        "*   тег `mystery` - 8,2% пользователей;\n",
        "*   тег `magical` - 8% пользователей;\n",
        "\n",
        "Теги `english, american, classic` используются пользователями чаще всего, теги `mystery & magical` встречаются на 30% реже самых популярных тегов, что потенциально может быть полезно отделу маркетинга для понимания интересов потенциальной аудитории и выстраивания маркетинговых стратегий.\n",
        "\n",
        "**5. Распределение авторов по половозрастным группам**\n",
        "<br />\n",
        "\n",
        "\n",
        "*   Среди авторов-женщин количество авторов изменяется по нарасающей в каждой возрастной группе, за исключением 50+ (авторы женщины этой возрастной категории отсуствуют); \n",
        "*   Среди авторов-мужчин не проглядывается четкого тренда зависимости количества авторов от возраста - чаще других авторами являются пользователи группы `20-29` и `40-49`, также, в отличие от женщин, присутсвуют авторы 50+.\n",
        "* Как среди мужчин, так и среди женщин, чаще всего пишут авторы категории `40-49`.\n",
        "\n"
      ],
      "metadata": {
        "id": "QOfzTnVi1nhW"
      }
    }
  ]
}
